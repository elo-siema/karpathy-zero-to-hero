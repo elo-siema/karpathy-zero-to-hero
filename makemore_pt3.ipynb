{
 "cells": [
  {
   "cell_type": "code",
   "execution_count": 153,
   "metadata": {},
   "outputs": [],
   "source": [
    "##%pip install --upgrade jupyter ipywidgets tqdm pip\n"
   ]
  },
  {
   "cell_type": "code",
   "execution_count": 154,
   "metadata": {},
   "outputs": [
    {
     "name": "stdout",
     "output_type": "stream",
     "text": [
      "True\n",
      "True\n"
     ]
    }
   ],
   "source": [
    "#%pip install tqdm\n",
    "import torch\n",
    "import torch.nn.functional as F\n",
    "import matplotlib.pyplot as plt\n",
    "from tqdm import tqdm\n",
    "%matplotlib inline\n",
    "device = torch.device(\"mps\")\n",
    "# this ensures that the current MacOS version is at least 12.3+\n",
    "print(torch.backends.mps.is_available())# this ensures that the current current PyTorch installation was built with MPS activated.\n",
    "print(torch.backends.mps.is_built())"
   ]
  },
  {
   "cell_type": "code",
   "execution_count": 155,
   "metadata": {},
   "outputs": [
    {
     "data": {
      "text/plain": [
       "['emma', 'olivia', 'ava', 'isabella', 'sophia', 'charlotte', 'mia', 'amelia']"
      ]
     },
     "execution_count": 155,
     "metadata": {},
     "output_type": "execute_result"
    }
   ],
   "source": [
    "words = open('names.txt').read().splitlines()\n",
    "words[:8]"
   ]
  },
  {
   "cell_type": "code",
   "execution_count": 156,
   "metadata": {},
   "outputs": [
    {
     "data": {
      "text/plain": [
       "32033"
      ]
     },
     "execution_count": 156,
     "metadata": {},
     "output_type": "execute_result"
    }
   ],
   "source": [
    "len(words)"
   ]
  },
  {
   "cell_type": "code",
   "execution_count": 157,
   "metadata": {},
   "outputs": [
    {
     "name": "stdout",
     "output_type": "stream",
     "text": [
      "{1: 'a', 2: 'b', 3: 'c', 4: 'd', 5: 'e', 6: 'f', 7: 'g', 8: 'h', 9: 'i', 10: 'j', 11: 'k', 12: 'l', 13: 'm', 14: 'n', 15: 'o', 16: 'p', 17: 'q', 18: 'r', 19: 's', 20: 't', 21: 'u', 22: 'v', 23: 'w', 24: 'x', 25: 'y', 26: 'z', 0: '.'}\n",
      "27\n"
     ]
    }
   ],
   "source": [
    "chars = sorted(list(set(''.join(words))))\n",
    "stoi = {c: i+1 for i, c in enumerate(chars)}\n",
    "stoi['.']=0\n",
    "itos = {i: c for c, i in stoi.items()}\n",
    "vocab_size = len(itos)\n",
    "print(itos)\n",
    "print(vocab_size)"
   ]
  },
  {
   "cell_type": "code",
   "execution_count": 158,
   "metadata": {},
   "outputs": [
    {
     "name": "stdout",
     "output_type": "stream",
     "text": [
      "torch.Size([182625, 3]) torch.int64 torch.Size([182625]) torch.int64\n",
      "torch.Size([22655, 3]) torch.int64 torch.Size([22655]) torch.int64\n",
      "torch.Size([22866, 3]) torch.int64 torch.Size([22866]) torch.int64\n"
     ]
    }
   ],
   "source": [
    "# build the dataset\n",
    "block_size = 3 # context length: 3 characters to predict the next one\n",
    "\n",
    "\n",
    "def build_dataset(words):\n",
    "    X, Y = [], []\n",
    "    for w in words:\n",
    "\n",
    "        context = [0] * block_size\n",
    "        for ch in w + '.':\n",
    "            ix = stoi[ch]\n",
    "            X.append(context)\n",
    "            Y.append(ix)\n",
    "            context = context[1:] + [ix]\n",
    "\n",
    "    X = torch.tensor(X)\n",
    "    Y = torch.tensor(Y)\n",
    "    print(X.shape, X.dtype, Y.shape, Y.dtype)\n",
    "    return X, Y\n",
    "\n",
    "import random\n",
    "random.seed(42)\n",
    "random.shuffle(words)\n",
    "n1 = int(0.8*len(words))\n",
    "n2 = int(0.9*len(words))\n",
    "\n",
    "Xtr, Ytr = build_dataset(words[:n1])\n",
    "Xdev, Ydev = build_dataset(words[n1:n2])\n",
    "Xte, Yte = build_dataset(words[n2:])"
   ]
  },
  {
   "cell_type": "code",
   "execution_count": 159,
   "metadata": {},
   "outputs": [
    {
     "data": {
      "text/plain": [
       "12097"
      ]
     },
     "execution_count": 159,
     "metadata": {},
     "output_type": "execute_result"
    }
   ],
   "source": [
    "# Now make it clean:\n",
    "n_chars = len(chars)+1\n",
    "embedding_dimensions = 10\n",
    "n_hidden = 200\n",
    "n_inputs = block_size * embedding_dimensions\n",
    "g = torch.Generator().manual_seed(2147483647)\n",
    "C = torch.randn((n_chars, embedding_dimensions), generator=g)\n",
    "W1 = torch.randn((n_inputs, n_hidden), generator=g) * (5/3)/(n_inputs**0.5)\n",
    "#b1 = torch.randn(n_hidden, generator=g) * 0.01\n",
    "W2 = torch.randn((n_hidden, n_chars), generator=g) * 0.01\n",
    "b2 = torch.randn(n_chars, generator=g) * 0\n",
    "\n",
    "bngain = torch.ones((1, n_hidden))\n",
    "bnbias = torch.zeros((1, n_hidden))\n",
    "bnmean_running = torch.zeros((1, n_hidden))\n",
    "bnstd_running = torch.ones((1, n_hidden))\n",
    "\n",
    "parameters = [C, W1, W2, b2, bngain, bnbias]\n",
    "\n",
    "\n",
    "for p in parameters:\n",
    "    p.requires_grad = True\n",
    "\n",
    "sum(p.numel() for p in parameters)"
   ]
  },
  {
   "cell_type": "code",
   "execution_count": 160,
   "metadata": {},
   "outputs": [
    {
     "name": "stdout",
     "output_type": "stream",
     "text": [
      "torch.Size([1000, 1000])\n",
      "tensor(0.0161) tensor(1.0135)\n",
      "tensor(-0.0007) tensor(1.0136)\n"
     ]
    },
    {
     "data": {
      "text/plain": [
       "(array([7.57134601e-06, 0.00000000e+00, 0.00000000e+00, 7.57134601e-06,\n",
       "        0.00000000e+00, 1.51426920e-05, 2.27140380e-05, 1.51426920e-05,\n",
       "        3.02853840e-05, 6.81421141e-05, 3.78567300e-05, 6.81421141e-05,\n",
       "        1.28712882e-04, 1.58998266e-04, 1.89283650e-04, 3.17996532e-04,\n",
       "        2.80139802e-04, 5.45136913e-04, 5.82993643e-04, 8.93418829e-04,\n",
       "        1.12055921e-03, 1.67326747e-03, 2.06697746e-03, 2.77111264e-03,\n",
       "        3.86895781e-03, 4.89866087e-03, 6.96563833e-03, 8.87361752e-03,\n",
       "        1.18870132e-02, 1.53244043e-02, 2.05713471e-02, 2.59015747e-02,\n",
       "        3.36773470e-02, 4.30203880e-02, 5.33098472e-02, 6.83238264e-02,\n",
       "        8.58742064e-02, 1.04325577e-01, 1.28031461e-01, 1.55371591e-01,\n",
       "        1.86398967e-01, 2.17532342e-01, 2.51663970e-01, 2.86355877e-01,\n",
       "        3.25113598e-01, 3.58245808e-01, 3.79930143e-01, 4.06861420e-01,\n",
       "        4.20118847e-01, 4.23026244e-01, 4.16779884e-01, 3.99456644e-01,\n",
       "        3.80702420e-01, 3.51355883e-01, 3.18670382e-01, 2.81934211e-01,\n",
       "        2.44418192e-01, 2.09325003e-01, 1.80606888e-01, 1.49738510e-01,\n",
       "        1.23882363e-01, 1.00744330e-01, 8.12556854e-02, 6.60524226e-02,\n",
       "        5.27874244e-02, 4.05975573e-02, 3.22312200e-02, 2.55078647e-02,\n",
       "        1.88905083e-02, 1.43931288e-02, 1.17507290e-02, 8.31333792e-03,\n",
       "        6.63249910e-03, 4.81537606e-03, 3.57367532e-03, 2.60454303e-03,\n",
       "        2.02154938e-03, 1.69598151e-03, 1.14327325e-03, 7.11706525e-04,\n",
       "        6.96563833e-04, 4.61852107e-04, 2.87711148e-04, 2.42283072e-04,\n",
       "        1.51426920e-04, 1.43855574e-04, 3.78567300e-05, 9.84274981e-05,\n",
       "        3.02853840e-05, 3.02853840e-05, 1.51426920e-05, 1.51426920e-05,\n",
       "        3.78567300e-05, 0.00000000e+00, 0.00000000e+00, 7.57134601e-06,\n",
       "        7.57134601e-06, 0.00000000e+00, 0.00000000e+00, 1.51426920e-05]),\n",
       " array([-6.52651739, -6.39444048, -6.26236357, -6.13028666, -5.99820974,\n",
       "        -5.86613283, -5.73405592, -5.60197901, -5.4699021 , -5.33782518,\n",
       "        -5.20574827, -5.07367136, -4.94159445, -4.80951754, -4.67744062,\n",
       "        -4.54536371, -4.4132868 , -4.28120989, -4.14913298, -4.01705606,\n",
       "        -3.88497915, -3.75290224, -3.62082533, -3.48874842, -3.3566715 ,\n",
       "        -3.22459459, -3.09251768, -2.96044077, -2.82836386, -2.69628695,\n",
       "        -2.56421003, -2.43213312, -2.30005621, -2.1679793 , -2.03590239,\n",
       "        -1.90382547, -1.77174856, -1.63967165, -1.50759474, -1.37551783,\n",
       "        -1.24344091, -1.111364  , -0.97928709, -0.84721018, -0.71513327,\n",
       "        -0.58305635, -0.45097944, -0.31890253, -0.18682562, -0.05474871,\n",
       "         0.07732821,  0.20940512,  0.34148203,  0.47355894,  0.60563585,\n",
       "         0.73771276,  0.86978968,  1.00186659,  1.1339435 ,  1.26602041,\n",
       "         1.39809732,  1.53017424,  1.66225115,  1.79432806,  1.92640497,\n",
       "         2.05848188,  2.1905588 ,  2.32263571,  2.45471262,  2.58678953,\n",
       "         2.71886644,  2.85094336,  2.98302027,  3.11509718,  3.24717409,\n",
       "         3.379251  ,  3.51132792,  3.64340483,  3.77548174,  3.90755865,\n",
       "         4.03963556,  4.17171247,  4.30378939,  4.4358663 ,  4.56794321,\n",
       "         4.70002012,  4.83209703,  4.96417395,  5.09625086,  5.22832777,\n",
       "         5.36040468,  5.49248159,  5.62455851,  5.75663542,  5.88871233,\n",
       "         6.02078924,  6.15286615,  6.28494307,  6.41701998,  6.54909689,\n",
       "         6.6811738 ]),\n",
       " <BarContainer object of 100 artists>)"
      ]
     },
     "execution_count": 160,
     "metadata": {},
     "output_type": "execute_result"
    },
    {
     "data": {
      "image/png": "[encoded data removed]",
      "text/plain": [
       "<Figure size 2000x500 with 2 Axes>"
      ]
     },
     "metadata": {},
     "output_type": "display_data"
    }
   ],
   "source": [
    "import pandas as pd\n",
    "import pygwalker as pyg\n",
    "x = torch.randn(1000, 10)\n",
    "w = torch.randn(10, 1000) / 10**0.5 # divide by sqrt(d) to keep variance constant\n",
    "\n",
    "y = x @ w\n",
    "print(y.size())\n",
    "print(x.mean(), x.std())\n",
    "print(y.mean(), y.std())\n",
    "plt.figure(figsize=(20, 5))\n",
    "plt.subplot(1, 2, 1)\n",
    "plt.hist(x.view(-1).tolist(), density=True, bins=100)\n",
    "plt.subplot(1, 2, 2)\n",
    "plt.hist(y.view(-1).tolist(), density=True, bins=100)\n",
    "\n"
   ]
  },
  {
   "cell_type": "code",
   "execution_count": 161,
   "metadata": {},
   "outputs": [],
   "source": [
    "lri = []\n",
    "lossi = []\n",
    "stepi = []"
   ]
  },
  {
   "cell_type": "code",
   "execution_count": 162,
   "metadata": {},
   "outputs": [
    {
     "name": "stderr",
     "output_type": "stream",
     "text": [
      "  0%|          | 418/200000 [00:00<01:35, 2088.09it/s]"
     ]
    },
    {
     "name": "stdout",
     "output_type": "stream",
     "text": [
      "0 3.282\n"
     ]
    },
    {
     "name": "stderr",
     "output_type": "stream",
     "text": [
      "  5%|▌         | 10365/200000 [00:04<01:24, 2250.49it/s]"
     ]
    },
    {
     "name": "stdout",
     "output_type": "stream",
     "text": [
      "10000 2.387\n"
     ]
    },
    {
     "name": "stderr",
     "output_type": "stream",
     "text": [
      " 10%|█         | 20397/200000 [00:08<01:20, 2241.38it/s]"
     ]
    },
    {
     "name": "stdout",
     "output_type": "stream",
     "text": [
      "20000 2.017\n"
     ]
    },
    {
     "name": "stderr",
     "output_type": "stream",
     "text": [
      " 15%|█▌        | 30409/200000 [00:13<01:13, 2307.57it/s]"
     ]
    },
    {
     "name": "stdout",
     "output_type": "stream",
     "text": [
      "30000 2.640\n"
     ]
    },
    {
     "name": "stderr",
     "output_type": "stream",
     "text": [
      " 20%|██        | 40222/200000 [00:17<01:07, 2369.26it/s]"
     ]
    },
    {
     "name": "stdout",
     "output_type": "stream",
     "text": [
      "40000 2.356\n"
     ]
    },
    {
     "name": "stderr",
     "output_type": "stream",
     "text": [
      " 25%|██▌       | 50439/200000 [00:21<01:02, 2381.77it/s]"
     ]
    },
    {
     "name": "stdout",
     "output_type": "stream",
     "text": [
      "50000 2.546\n"
     ]
    },
    {
     "name": "stderr",
     "output_type": "stream",
     "text": [
      " 30%|███       | 60251/200000 [00:26<00:58, 2389.37it/s]"
     ]
    },
    {
     "name": "stdout",
     "output_type": "stream",
     "text": [
      "60000 2.162\n"
     ]
    },
    {
     "name": "stderr",
     "output_type": "stream",
     "text": [
      " 35%|███▌      | 70304/200000 [00:30<00:54, 2383.42it/s]"
     ]
    },
    {
     "name": "stdout",
     "output_type": "stream",
     "text": [
      "70000 1.977\n"
     ]
    },
    {
     "name": "stderr",
     "output_type": "stream",
     "text": [
      " 40%|████      | 80340/200000 [00:34<00:50, 2361.36it/s]"
     ]
    },
    {
     "name": "stdout",
     "output_type": "stream",
     "text": [
      "80000 2.024\n"
     ]
    },
    {
     "name": "stderr",
     "output_type": "stream",
     "text": [
      " 45%|████▌     | 90401/200000 [00:38<00:46, 2349.33it/s]"
     ]
    },
    {
     "name": "stdout",
     "output_type": "stream",
     "text": [
      "90000 2.001\n"
     ]
    },
    {
     "name": "stderr",
     "output_type": "stream",
     "text": [
      " 50%|█████     | 100261/200000 [00:42<00:41, 2406.57it/s]"
     ]
    },
    {
     "name": "stdout",
     "output_type": "stream",
     "text": [
      "100000 2.059\n"
     ]
    },
    {
     "name": "stderr",
     "output_type": "stream",
     "text": [
      " 55%|█████▌    | 110338/200000 [00:47<00:37, 2396.29it/s]"
     ]
    },
    {
     "name": "stdout",
     "output_type": "stream",
     "text": [
      "110000 2.074\n"
     ]
    },
    {
     "name": "stderr",
     "output_type": "stream",
     "text": [
      " 60%|██████    | 120368/200000 [00:51<00:33, 2377.82it/s]"
     ]
    },
    {
     "name": "stdout",
     "output_type": "stream",
     "text": [
      "120000 1.834\n"
     ]
    },
    {
     "name": "stderr",
     "output_type": "stream",
     "text": [
      " 65%|██████▌   | 130416/200000 [00:55<00:29, 2393.61it/s]"
     ]
    },
    {
     "name": "stdout",
     "output_type": "stream",
     "text": [
      "130000 2.211\n"
     ]
    },
    {
     "name": "stderr",
     "output_type": "stream",
     "text": [
      " 70%|███████   | 140254/200000 [00:59<00:24, 2406.19it/s]"
     ]
    },
    {
     "name": "stdout",
     "output_type": "stream",
     "text": [
      "140000 2.111\n"
     ]
    },
    {
     "name": "stderr",
     "output_type": "stream",
     "text": [
      " 75%|███████▌  | 150391/200000 [01:03<00:20, 2446.52it/s]"
     ]
    },
    {
     "name": "stdout",
     "output_type": "stream",
     "text": [
      "150000 1.736\n"
     ]
    },
    {
     "name": "stderr",
     "output_type": "stream",
     "text": [
      " 80%|████████  | 160463/200000 [01:08<00:16, 2398.10it/s]"
     ]
    },
    {
     "name": "stdout",
     "output_type": "stream",
     "text": [
      "160000 2.186\n"
     ]
    },
    {
     "name": "stderr",
     "output_type": "stream",
     "text": [
      " 85%|████████▌ | 170248/200000 [01:12<00:12, 2383.68it/s]"
     ]
    },
    {
     "name": "stdout",
     "output_type": "stream",
     "text": [
      "170000 2.417\n"
     ]
    },
    {
     "name": "stderr",
     "output_type": "stream",
     "text": [
      " 90%|█████████ | 180326/200000 [01:16<00:08, 2398.47it/s]"
     ]
    },
    {
     "name": "stdout",
     "output_type": "stream",
     "text": [
      "180000 2.488\n"
     ]
    },
    {
     "name": "stderr",
     "output_type": "stream",
     "text": [
      " 95%|█████████▌| 190452/200000 [01:20<00:03, 2390.20it/s]"
     ]
    },
    {
     "name": "stdout",
     "output_type": "stream",
     "text": [
      "190000 2.471\n"
     ]
    },
    {
     "name": "stderr",
     "output_type": "stream",
     "text": [
      "100%|██████████| 200000/200000 [01:24<00:00, 2357.07it/s]"
     ]
    },
    {
     "name": "stdout",
     "output_type": "stream",
     "text": [
      "1.7001441717147827\n"
     ]
    },
    {
     "name": "stderr",
     "output_type": "stream",
     "text": [
      "\n"
     ]
    }
   ],
   "source": [
    "batch_size = 32\n",
    "lossi = []\n",
    "max_steps = 200000\n",
    "for i in tqdm(range(max_steps)):\n",
    "    # mini-batch\n",
    "    ix = torch.randint(0, Xtr.shape[0], (batch_size,))\n",
    "    Xb, Yb = Xtr[ix], Ytr[ix]\n",
    "\n",
    "    # forward pass\n",
    "    emb = C[Xb] # embed characters into vectors\n",
    "    embcat = emb.view(-1, n_inputs) # concatenate the vectors\n",
    "    hpreact = embcat @ W1# + b1 # hidden layer pre-activation\n",
    "    bnmeani = hpreact.mean(0, keepdim=True)\n",
    "    bnstdi = hpreact.std(0, keepdim=True)\n",
    "    hpreact = bngain * (hpreact - bnmeani) / bnstdi + bnbias\n",
    "    h = torch.tanh(hpreact) # hidden layer\n",
    "    logits = h @ W2 + b2 # output layer\n",
    "    loss = F.cross_entropy(logits, Yb) # loss\n",
    "\n",
    "    with torch.no_grad():\n",
    "        bnmean_running = 0.999 * bnmean_running + 0.001 * bnmeani\n",
    "        bnstd_running = 0.999 * bnstd_running + 0.001 * bnstdi\n",
    "\n",
    "    # backward pass\n",
    "    for p in parameters:\n",
    "        p.grad = None\n",
    "    loss.backward()\n",
    "\n",
    "    # update\n",
    "    lr = 0.1 if i < max_steps/2 else 0.01\n",
    "    for p in parameters:\n",
    "        p.data -= lr * p.grad\n",
    "\n",
    "    # track stats:\n",
    "    if i % 10000 == 0:\n",
    "        print(f'{i} {loss.item():.3f}')\n",
    "\n",
    "    lossi.append(loss.log10().item())\n",
    "    stepi.append(i)\n",
    "    \n",
    "\n",
    "print(loss.item())\n"
   ]
  },
  {
   "cell_type": "code",
   "execution_count": 163,
   "metadata": {},
   "outputs": [
    {
     "data": {
      "text/plain": [
       "torch.Size([32, 200])"
      ]
     },
     "execution_count": 163,
     "metadata": {},
     "output_type": "execute_result"
    },
    {
     "data": {
      "image/png": "[encoded data removed]",
      "text/plain": [
       "<Figure size 2000x1000 with 1 Axes>"
      ]
     },
     "metadata": {},
     "output_type": "display_data"
    }
   ],
   "source": [
    "#plt.hist(h.view(-1).tolist(), 50);\n",
    "plt.figure(figsize=(20, 10))\n",
    "plt.imshow(h.abs() > 0.99, cmap='gray', interpolation='nearest')\n",
    "h.shape"
   ]
  },
  {
   "cell_type": "code",
   "execution_count": 164,
   "metadata": {},
   "outputs": [
    {
     "data": {
      "image/png": "[encoded data removed]",
      "text/plain": [
       "<Figure size 640x480 with 1 Axes>"
      ]
     },
     "metadata": {},
     "output_type": "display_data"
    }
   ],
   "source": [
    "plt.hist(h.view(-1).tolist(), 50);"
   ]
  },
  {
   "cell_type": "code",
   "execution_count": 165,
   "metadata": {},
   "outputs": [
    {
     "data": {
      "text/plain": [
       "[<matplotlib.lines.Line2D at 0x2b65824c0>]"
      ]
     },
     "execution_count": 165,
     "metadata": {},
     "output_type": "execute_result"
    },
    {
     "data": {
      "image/png": "[encoded data removed]",
      "text/plain": [
       "<Figure size 640x480 with 1 Axes>"
      ]
     },
     "metadata": {},
     "output_type": "display_data"
    }
   ],
   "source": [
    "plt.plot(stepi, lossi)"
   ]
  },
  {
   "cell_type": "code",
   "execution_count": 166,
   "metadata": {},
   "outputs": [
    {
     "name": "stdout",
     "output_type": "stream",
     "text": [
      "2.067202091217041\n",
      "2.1071884632110596\n"
     ]
    }
   ],
   "source": [
    "@torch.no_grad()\n",
    "def split_loss(split):\n",
    "    x, y = {\n",
    "        'train': (Xtr, Ytr),\n",
    "        'dev': (Xdev, Ydev),\n",
    "        'test': (Xte, Yte),\n",
    "    }[split]\n",
    "    emb = C[x]\n",
    "    embcat = emb.view(-1, n_inputs)\n",
    "    hpreact = embcat @ W1 + b1\n",
    "    hpreact = bngain * (hpreact - bnmean_running) / bnstd_running + bnbias\n",
    "    h = torch.tanh(hpreact)\n",
    "    logits = h @ W2 + b2\n",
    "    loss = F.cross_entropy(logits, y)\n",
    "    print(loss.item())\n",
    "\n",
    "split_loss('train')\n",
    "split_loss('dev')"
   ]
  },
  {
   "cell_type": "code",
   "execution_count": 170,
   "metadata": {},
   "outputs": [
    {
     "name": "stdout",
     "output_type": "stream",
     "text": [
      "texzadifglsustinczitth.\n",
      "stlqimiltangrakfagrnatdh.\n",
      "stezyah.\n",
      "jaxsomintsi.\n",
      "khzirshavuggwoxddrekk.\n",
      "kyvagsidly.\n",
      "tibvgrryck.\n",
      "bstuhlyndervangelsw.\n",
      "ssof.\n",
      "blakslanyightranc.\n",
      "kazdyn.\n",
      "kyzlestus.\n",
      "khar.\n",
      "taybidanshudbshattz.\n",
      "zyssqeyghnrixmenahrishnn.\n",
      "marisandricktzedrishmohsobidenzadelyssahmiqkentlyniq.\n",
      "vebdmidsmeszadtmmigambrek.\n",
      "keislynslivllangriffynn.\n",
      "sak.\n",
      "stza.\n"
     ]
    }
   ],
   "source": [
    "g = torch.Generator().manual_seed(2147483647)\n",
    "\n",
    "for _ in range(20):\n",
    "\n",
    "    out = []\n",
    "    context = [0] * block_size\n",
    "    while True:\n",
    "        emb = C[torch.tensor([context])]\n",
    "        h = torch.tanh(emb.view(1, -1) @ W1)\n",
    "        logits = h @ W2 + b2\n",
    "        probs = F.softmax(logits, dim=1)\n",
    "        ix = torch.multinomial(probs, num_samples=1, generator=g).item()\n",
    "        context = context[1:] + [ix]\n",
    "        out.append(ix)\n",
    "        if ix == 0:\n",
    "            break\n",
    "    print(''.join(itos[ix] for ix in out))"
   ]
  }
 ],
 "metadata": {
  "kernelspec": {
   "display_name": "Python 3",
   "language": "python",
   "name": "python3"
  },
  "language_info": {
   "codemirror_mode": {
    "name": "ipython",
    "version": 3
   },
   "file_extension": ".py",
   "mimetype": "text/x-python",
   "name": "python",
   "nbconvert_exporter": "python",
   "pygments_lexer": "ipython3",
   "version": "3.9.6"
  },
  "orig_nbformat": 4,
  "vscode": {
   "interpreter": {
    "hash": "31f2aee4e71d21fbe5cf8b01ff0e069b9275f58929596ceb00d14d90e3e16cd6"
   }
  }
 },
 "nbformat": 4,
 "nbformat_minor": 2
}
