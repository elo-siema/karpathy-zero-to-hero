{
 "cells": [
  {
   "cell_type": "code",
   "execution_count": 432,
   "metadata": {},
   "outputs": [
    {
     "name": "stdout",
     "output_type": "stream",
     "text": [
      "Defaulting to user installation because normal site-packages is not writeable\n",
      "Requirement already satisfied: numpy in /Users/user/Library/Python/3.9/lib/python/site-packages (1.24.1)\n",
      "Requirement already satisfied: matplotlib in /Users/user/Library/Python/3.9/lib/python/site-packages (3.6.3)\n",
      "Requirement already satisfied: graphviz in /Users/user/Library/Python/3.9/lib/python/site-packages (0.20.1)\n",
      "Requirement already satisfied: pillow>=6.2.0 in /Users/user/Library/Python/3.9/lib/python/site-packages (from matplotlib) (9.4.0)\n",
      "Requirement already satisfied: packaging>=20.0 in /Users/user/Library/Python/3.9/lib/python/site-packages (from matplotlib) (23.0)\n",
      "Requirement already satisfied: python-dateutil>=2.7 in /Users/user/Library/Python/3.9/lib/python/site-packages (from matplotlib) (2.8.2)\n",
      "Requirement already satisfied: fonttools>=4.22.0 in /Users/user/Library/Python/3.9/lib/python/site-packages (from matplotlib) (4.38.0)\n",
      "Requirement already satisfied: pyparsing>=2.2.1 in /Users/user/Library/Python/3.9/lib/python/site-packages (from matplotlib) (3.0.9)\n",
      "Requirement already satisfied: cycler>=0.10 in /Users/user/Library/Python/3.9/lib/python/site-packages (from matplotlib) (0.11.0)\n",
      "Requirement already satisfied: kiwisolver>=1.0.1 in /Users/user/Library/Python/3.9/lib/python/site-packages (from matplotlib) (1.4.4)\n",
      "Requirement already satisfied: contourpy>=1.0.1 in /Users/user/Library/Python/3.9/lib/python/site-packages (from matplotlib) (1.0.7)\n",
      "Requirement already satisfied: six>=1.5 in /Applications/Xcode.app/Contents/Developer/Library/Frameworks/Python3.framework/Versions/3.9/lib/python3.9/site-packages (from python-dateutil>=2.7->matplotlib) (1.15.0)\n",
      "\u001b[33mWARNING: You are using pip version 21.2.4; however, version 22.3.1 is available.\n",
      "You should consider upgrading via the '/Applications/Xcode.app/Contents/Developer/usr/bin/python3 -m pip install --upgrade pip' command.\u001b[0m\n",
      "Note: you may need to restart the kernel to use updated packages.\n"
     ]
    }
   ],
   "source": [
    "%pip install numpy matplotlib graphviz\n",
    "import math\n",
    "import numpy as np\n",
    "import matplotlib.pyplot as plt\n",
    "%matplotlib inline"
   ]
  },
  {
   "cell_type": "code",
   "execution_count": 433,
   "metadata": {},
   "outputs": [],
   "source": [
    "def f(x):\n",
    "    return 3*x**2 - 4*x + 5"
   ]
  },
  {
   "cell_type": "code",
   "execution_count": 434,
   "metadata": {},
   "outputs": [
    {
     "data": {
      "text/plain": [
       "20.0"
      ]
     },
     "execution_count": 434,
     "metadata": {},
     "output_type": "execute_result"
    }
   ],
   "source": [
    "f(3.0)"
   ]
  },
  {
   "cell_type": "code",
   "execution_count": 435,
   "metadata": {},
   "outputs": [
    {
     "data": {
      "text/plain": [
       "array([-5.  , -4.75, -4.5 , -4.25, -4.  , -3.75, -3.5 , -3.25, -3.  ,\n",
       "       -2.75, -2.5 , -2.25, -2.  , -1.75, -1.5 , -1.25, -1.  , -0.75,\n",
       "       -0.5 , -0.25,  0.  ,  0.25,  0.5 ,  0.75,  1.  ,  1.25,  1.5 ,\n",
       "        1.75,  2.  ,  2.25,  2.5 ,  2.75,  3.  ,  3.25,  3.5 ,  3.75,\n",
       "        4.  ,  4.25,  4.5 ,  4.75])"
      ]
     },
     "execution_count": 435,
     "metadata": {},
     "output_type": "execute_result"
    }
   ],
   "source": [
    "xs = np.arange(-5, 5, 0.25)\n",
    "xs"
   ]
  },
  {
   "cell_type": "code",
   "execution_count": 436,
   "metadata": {},
   "outputs": [
    {
     "data": {
      "text/plain": [
       "array([100.    ,  91.6875,  83.75  ,  76.1875,  69.    ,  62.1875,\n",
       "        55.75  ,  49.6875,  44.    ,  38.6875,  33.75  ,  29.1875,\n",
       "        25.    ,  21.1875,  17.75  ,  14.6875,  12.    ,   9.6875,\n",
       "         7.75  ,   6.1875,   5.    ,   4.1875,   3.75  ,   3.6875,\n",
       "         4.    ,   4.6875,   5.75  ,   7.1875,   9.    ,  11.1875,\n",
       "        13.75  ,  16.6875,  20.    ,  23.6875,  27.75  ,  32.1875,\n",
       "        37.    ,  42.1875,  47.75  ,  53.6875])"
      ]
     },
     "execution_count": 436,
     "metadata": {},
     "output_type": "execute_result"
    }
   ],
   "source": [
    "ys = f(xs)\n",
    "ys"
   ]
  },
  {
   "cell_type": "code",
   "execution_count": 437,
   "metadata": {},
   "outputs": [
    {
     "data": {
      "text/plain": [
       "[<matplotlib.lines.Line2D at 0x2814a66a0>]"
      ]
     },
     "execution_count": 437,
     "metadata": {},
     "output_type": "execute_result"
    },
    {
     "data": {
      "image/png": "[encoded data removed]",
      "text/plain": [
       "<Figure size 640x480 with 1 Axes>"
      ]
     },
     "metadata": {},
     "output_type": "display_data"
    }
   ],
   "source": [
    "plt.plot(xs, ys)"
   ]
  },
  {
   "cell_type": "code",
   "execution_count": 438,
   "metadata": {},
   "outputs": [
    {
     "data": {
      "text/plain": [
       "-21.999970000052823"
      ]
     },
     "execution_count": 438,
     "metadata": {},
     "output_type": "execute_result"
    }
   ],
   "source": [
    "h = 0.00001\n",
    "x = -3.0\n",
    "(f(x+h) - f(x))/h\n"
   ]
  },
  {
   "cell_type": "code",
   "execution_count": 439,
   "metadata": {},
   "outputs": [
    {
     "name": "stdout",
     "output_type": "stream",
     "text": [
      "4.0\n"
     ]
    }
   ],
   "source": [
    "a = 2.0\n",
    "b = -3.0\n",
    "c = 10.0\n",
    "d = a*b + c\n",
    "print(d)"
   ]
  },
  {
   "cell_type": "code",
   "execution_count": 440,
   "metadata": {},
   "outputs": [
    {
     "name": "stdout",
     "output_type": "stream",
     "text": [
      "d1 4.0\n",
      "d2 4.00002\n",
      "slope 2.0000000000131024\n"
     ]
    }
   ],
   "source": [
    "h = 0.00001\n",
    "\n",
    "a = 2.0\n",
    "b = -3.0\n",
    "c = 10.0\n",
    "d1 = a*b + c\n",
    "b+=h\n",
    "d2 = a*b + c\n",
    "\n",
    "print('d1', d1)\n",
    "print('d2', d2)\n",
    "print('slope', (d2-d1)/h)"
   ]
  },
  {
   "cell_type": "code",
   "execution_count": 441,
   "metadata": {},
   "outputs": [],
   "source": [
    "class Value:\n",
    "\n",
    "    def __init__(self, data, _children=(), _op='', label=''):\n",
    "        self.data = data\n",
    "        self._backward = lambda: None\n",
    "        self._prev = set(_children)\n",
    "        self._op = _op\n",
    "        self.label = label\n",
    "        self.grad = 0.0\n",
    "\n",
    "    def __repr__(self) -> str:\n",
    "        return f'Value(data={self.data})'\n",
    "\n",
    "    def __add__(self, other):\n",
    "        other = other if isinstance(other, Value) else Value(other)\n",
    "        out = Value(self.data + other.data, (self, other), '+')\n",
    "        def _backward():\n",
    "            self.grad += 1.0 * out.grad\n",
    "            other.grad += 1.0 * out.grad\n",
    "        out._backward = _backward\n",
    "        return out\n",
    "\n",
    "    def __radd__(self, other):\n",
    "        return self + other\n",
    "\n",
    "    def __mul__(self, other):\n",
    "        other = other if isinstance(other, Value) else Value(other)\n",
    "        out = Value(self.data * other.data, (self, other), '*')\n",
    "        def _backward():\n",
    "            self.grad += other.data * out.grad\n",
    "            other.grad += self.data * out.grad\n",
    "        out._backward = _backward\n",
    "        return out\n",
    "\n",
    "    def __rmul__(self, other):\n",
    "        return self * other\n",
    "\n",
    "    def __pow__(self, other):\n",
    "        assert isinstance(other, (int, float)), 'only int and float exponents are supported'\n",
    "        out = Value(self.data**other, (self,), f'**{other}')\n",
    "\n",
    "        def _backward():\n",
    "            self.grad += other * self.data**(other-1) * out.grad\n",
    "        out._backward = _backward\n",
    "        return out\n",
    "\n",
    "    def __truediv__(self, other):\n",
    "        return self * other**-1\n",
    "\n",
    "    def __neg__(self):\n",
    "        return self * -1\n",
    "\n",
    "    def __sub__(self, other):\n",
    "        return self + -other\n",
    "\n",
    "    def tanh(self):\n",
    "        x = self.data\n",
    "        t = math.tanh(x)\n",
    "        out = Value(t, (self,), 'tanh')\n",
    "        def _backward():\n",
    "            self.grad += (1.0 - t**2) * out.grad\n",
    "        out._backward = _backward\n",
    "        return out\n",
    "    \n",
    "    def exp(self):\n",
    "        x = self.data\n",
    "        e = math.exp(x)\n",
    "        out = Value(e, (self,), 'exp')\n",
    "        def _backward():\n",
    "            self.grad += e * out.grad\n",
    "        out._backward = _backward\n",
    "        return out\n",
    "    \n",
    "    def backward(self):\n",
    "        topo = []\n",
    "        visited = set()\n",
    "        def build_topo(v):\n",
    "            if v not in visited:\n",
    "                visited.add(v)\n",
    "                for child in v._prev:\n",
    "                    build_topo(child)\n",
    "                topo.append(v)\n",
    "        build_topo(self)\n",
    "        self.grad = 1.0\n",
    "        for node in reversed(topo):\n",
    "            node._backward()\n",
    "        \n"
   ]
  },
  {
   "cell_type": "code",
   "execution_count": 442,
   "metadata": {},
   "outputs": [],
   "source": [
    "a = Value(2.0, label='a')\n",
    "a+=1"
   ]
  },
  {
   "cell_type": "code",
   "execution_count": 443,
   "metadata": {},
   "outputs": [
    {
     "data": {
      "text/plain": [
       "Value(data=-8.0)"
      ]
     },
     "execution_count": 443,
     "metadata": {},
     "output_type": "execute_result"
    }
   ],
   "source": [
    "a = Value(2.0, label='a')\n",
    "b = Value(-3.0, label='b')\n",
    "c = Value(10.0, label='c')\n",
    "e = a*b; e.label='e'  \n",
    "d = e + c; d.label = 'd'\n",
    "f = Value(-2.0, label='f')\n",
    "L = d*f\n",
    "L\n"
   ]
  },
  {
   "cell_type": "code",
   "execution_count": 444,
   "metadata": {},
   "outputs": [],
   "source": [
    "from graphviz import Digraph\n",
    "\n",
    "def trace(root):\n",
    "    # builds a set of all nodes and edges in a graph\n",
    "    nodes, edges = set(), set()\n",
    "    def build(v):\n",
    "        if v not in nodes:\n",
    "            nodes.add(v)\n",
    "            for child in v._prev:\n",
    "                edges.add((child, v))\n",
    "                build(child)\n",
    "    build(root)\n",
    "    return nodes, edges\n",
    "\n",
    "def draw_dot(root):\n",
    "    dot = Digraph(format='svg', graph_attr={'rankdir': 'LR'})\n",
    "    nodes, edges = trace(root)\n",
    "    for n in nodes:\n",
    "        uid = str(id(n))\n",
    "        dot.node(name=uid, label=f'{n.label} | data {n.data:.4f} | grad {n.grad:.4f}', shape='record')\n",
    "        if n._op:\n",
    "            dot.node(name=uid+n._op, label=n._op)\n",
    "            dot.edge(uid+n._op, uid)\n",
    "\n",
    "    for a, b in edges:\n",
    "        dot.edge(str(id(a)), str(id(b)) + b._op)\n",
    " \n",
    "    return dot"
   ]
  },
  {
   "cell_type": "code",
   "execution_count": 445,
   "metadata": {},
   "outputs": [
    {
     "data": {
      "image/svg+xml": "<?xml version=\"1.0\" encoding=\"UTF-8\" standalone=\"no\"?>\n<!DOCTYPE svg PUBLIC \"-//W3C//DTD SVG 1.1//EN\"\n \"http://www.w3.org/Graphics/SVG/1.1/DTD/svg11.dtd\">\n<!-- Generated by graphviz version 7.1.0 (20230121.1956)\n -->\n<!-- Pages: 1 -->\n<svg width=\"728pt\" height=\"254pt\"\n viewBox=\"0.00 0.00 728.00 254.00\" xmlns=\"http://www.w3.org/2000/svg\" xmlns:xlink=\"http://www.w3.org/1999/xlink\">\n<g id=\"graph0\" class=\"graph\" transform=\"scale(1 1) rotate(0) translate(4 250)\">\n<polygon fill=\"white\" stroke=\"none\" points=\"-4,4 -4,-250 724,-250 724,4 -4,4\"/>\n<!-- 10762675200 -->\n<g id=\"node1\" class=\"node\">\n<title>10762675200</title>\n<polygon fill=\"none\" stroke=\"black\" points=\"1.5,-176.5 1.5,-245.5 83.5,-245.5 83.5,-176.5 1.5,-176.5\"/>\n<text text-anchor=\"middle\" x=\"42.5\" y=\"-230.3\" font-family=\"Times,serif\" font-size=\"14.00\">a</text>\n<polyline fill=\"none\" stroke=\"black\" points=\"1.5,-222.5 83.5,-222.5\"/>\n<text text-anchor=\"middle\" x=\"42.5\" y=\"-207.3\" font-family=\"Times,serif\" font-size=\"14.00\">data 2.0000</text>\n<polyline fill=\"none\" stroke=\"black\" points=\"1.5,-199.5 83.5,-199.5\"/>\n<text text-anchor=\"middle\" x=\"42.5\" y=\"-184.3\" font-family=\"Times,serif\" font-size=\"14.00\">grad 0.0000</text>\n</g>\n<!-- 10761035984* -->\n<g id=\"node6\" class=\"node\">\n<title>10761035984*</title>\n<ellipse fill=\"none\" stroke=\"black\" cx=\"148\" cy=\"-167\" rx=\"27\" ry=\"18\"/>\n<text text-anchor=\"middle\" x=\"148\" y=\"-163.3\" font-family=\"Times,serif\" font-size=\"14.00\">*</text>\n</g>\n<!-- 10762675200&#45;&gt;10761035984* -->\n<g id=\"edge9\" class=\"edge\">\n<title>10762675200&#45;&gt;10761035984*</title>\n<path fill=\"none\" stroke=\"black\" d=\"M83.22,-194.11C93.41,-189.78 104.26,-185.17 114.06,-181\"/>\n<polygon fill=\"black\" stroke=\"black\" points=\"115.37,-184.25 123.2,-177.12 112.63,-177.81 115.37,-184.25\"/>\n</g>\n<!-- 10759186464 -->\n<g id=\"node2\" class=\"node\">\n<title>10759186464</title>\n<polygon fill=\"none\" stroke=\"black\" points=\"635,-44.5 635,-113.5 720,-113.5 720,-44.5 635,-44.5\"/>\n<text text-anchor=\"middle\" x=\"677.5\" y=\"-98.3\" font-family=\"Times,serif\" font-size=\"14.00\"> </text>\n<polyline fill=\"none\" stroke=\"black\" points=\"635,-90.5 720,-90.5\"/>\n<text text-anchor=\"middle\" x=\"677.5\" y=\"-75.3\" font-family=\"Times,serif\" font-size=\"14.00\">data &#45;8.0000</text>\n<polyline fill=\"none\" stroke=\"black\" points=\"635,-67.5 720,-67.5\"/>\n<text text-anchor=\"middle\" x=\"677.5\" y=\"-52.3\" font-family=\"Times,serif\" font-size=\"14.00\">grad 0.0000</text>\n</g>\n<!-- 10759186464* -->\n<g id=\"node3\" class=\"node\">\n<title>10759186464*</title>\n<ellipse fill=\"none\" stroke=\"black\" cx=\"572\" cy=\"-79\" rx=\"27\" ry=\"18\"/>\n<text text-anchor=\"middle\" x=\"572\" y=\"-75.3\" font-family=\"Times,serif\" font-size=\"14.00\">*</text>\n</g>\n<!-- 10759186464*&#45;&gt;10759186464 -->\n<g id=\"edge1\" class=\"edge\">\n<title>10759186464*&#45;&gt;10759186464</title>\n<path fill=\"none\" stroke=\"black\" d=\"M599.39,-79C606.88,-79 615.32,-79 623.79,-79\"/>\n<polygon fill=\"black\" stroke=\"black\" points=\"623.76,-82.5 633.76,-79 623.76,-75.5 623.76,-82.5\"/>\n</g>\n<!-- 10762677408 -->\n<g id=\"node4\" class=\"node\">\n<title>10762677408</title>\n<polygon fill=\"none\" stroke=\"black\" points=\"211,-44.5 211,-113.5 298,-113.5 298,-44.5 211,-44.5\"/>\n<text text-anchor=\"middle\" x=\"254.5\" y=\"-98.3\" font-family=\"Times,serif\" font-size=\"14.00\">c</text>\n<polyline fill=\"none\" stroke=\"black\" points=\"211,-90.5 298,-90.5\"/>\n<text text-anchor=\"middle\" x=\"254.5\" y=\"-75.3\" font-family=\"Times,serif\" font-size=\"14.00\">data 10.0000</text>\n<polyline fill=\"none\" stroke=\"black\" points=\"211,-67.5 298,-67.5\"/>\n<text text-anchor=\"middle\" x=\"254.5\" y=\"-52.3\" font-family=\"Times,serif\" font-size=\"14.00\">grad 0.0000</text>\n</g>\n<!-- 10756793296+ -->\n<g id=\"node10\" class=\"node\">\n<title>10756793296+</title>\n<ellipse fill=\"none\" stroke=\"black\" cx=\"361\" cy=\"-123\" rx=\"27\" ry=\"18\"/>\n<text text-anchor=\"middle\" x=\"361\" y=\"-119.3\" font-family=\"Times,serif\" font-size=\"14.00\">+</text>\n</g>\n<!-- 10762677408&#45;&gt;10756793296+ -->\n<g id=\"edge8\" class=\"edge\">\n<title>10762677408&#45;&gt;10756793296+</title>\n<path fill=\"none\" stroke=\"black\" d=\"M297.7,-96.77C307.47,-100.88 317.73,-105.2 327.04,-109.12\"/>\n<polygon fill=\"black\" stroke=\"black\" points=\"325.48,-112.26 336.05,-112.92 328.19,-105.81 325.48,-112.26\"/>\n</g>\n<!-- 10761035984 -->\n<g id=\"node5\" class=\"node\">\n<title>10761035984</title>\n<polygon fill=\"none\" stroke=\"black\" points=\"212,-132.5 212,-201.5 297,-201.5 297,-132.5 212,-132.5\"/>\n<text text-anchor=\"middle\" x=\"254.5\" y=\"-186.3\" font-family=\"Times,serif\" font-size=\"14.00\">e</text>\n<polyline fill=\"none\" stroke=\"black\" points=\"212,-178.5 297,-178.5\"/>\n<text text-anchor=\"middle\" x=\"254.5\" y=\"-163.3\" font-family=\"Times,serif\" font-size=\"14.00\">data &#45;6.0000</text>\n<polyline fill=\"none\" stroke=\"black\" points=\"212,-155.5 297,-155.5\"/>\n<text text-anchor=\"middle\" x=\"254.5\" y=\"-140.3\" font-family=\"Times,serif\" font-size=\"14.00\">grad 0.0000</text>\n</g>\n<!-- 10761035984&#45;&gt;10756793296+ -->\n<g id=\"edge4\" class=\"edge\">\n<title>10761035984&#45;&gt;10756793296+</title>\n<path fill=\"none\" stroke=\"black\" d=\"M296.8,-149.61C306.92,-145.35 317.6,-140.85 327.25,-136.79\"/>\n<polygon fill=\"black\" stroke=\"black\" points=\"328.37,-140.12 336.23,-133.01 325.65,-133.66 328.37,-140.12\"/>\n</g>\n<!-- 10761035984*&#45;&gt;10761035984 -->\n<g id=\"edge2\" class=\"edge\">\n<title>10761035984*&#45;&gt;10761035984</title>\n<path fill=\"none\" stroke=\"black\" d=\"M175.37,-167C183.11,-167 191.85,-167 200.62,-167\"/>\n<polygon fill=\"black\" stroke=\"black\" points=\"200.57,-170.5 210.57,-167 200.57,-163.5 200.57,-170.5\"/>\n</g>\n<!-- 10762677456 -->\n<g id=\"node7\" class=\"node\">\n<title>10762677456</title>\n<polygon fill=\"none\" stroke=\"black\" points=\"424,-0.5 424,-69.5 509,-69.5 509,-0.5 424,-0.5\"/>\n<text text-anchor=\"middle\" x=\"466.5\" y=\"-54.3\" font-family=\"Times,serif\" font-size=\"14.00\">f</text>\n<polyline fill=\"none\" stroke=\"black\" points=\"424,-46.5 509,-46.5\"/>\n<text text-anchor=\"middle\" x=\"466.5\" y=\"-31.3\" font-family=\"Times,serif\" font-size=\"14.00\">data &#45;2.0000</text>\n<polyline fill=\"none\" stroke=\"black\" points=\"424,-23.5 509,-23.5\"/>\n<text text-anchor=\"middle\" x=\"466.5\" y=\"-8.3\" font-family=\"Times,serif\" font-size=\"14.00\">grad 0.0000</text>\n</g>\n<!-- 10762677456&#45;&gt;10759186464* -->\n<g id=\"edge6\" class=\"edge\">\n<title>10762677456&#45;&gt;10759186464*</title>\n<path fill=\"none\" stroke=\"black\" d=\"M508.7,-52.52C518.51,-56.68 528.84,-61.08 538.21,-65.06\"/>\n<polygon fill=\"black\" stroke=\"black\" points=\"536.72,-68.23 547.29,-68.92 539.45,-61.79 536.72,-68.23\"/>\n</g>\n<!-- 10762677648 -->\n<g id=\"node8\" class=\"node\">\n<title>10762677648</title>\n<polygon fill=\"none\" stroke=\"black\" points=\"0,-88.5 0,-157.5 85,-157.5 85,-88.5 0,-88.5\"/>\n<text text-anchor=\"middle\" x=\"42.5\" y=\"-142.3\" font-family=\"Times,serif\" font-size=\"14.00\">b</text>\n<polyline fill=\"none\" stroke=\"black\" points=\"0,-134.5 85,-134.5\"/>\n<text text-anchor=\"middle\" x=\"42.5\" y=\"-119.3\" font-family=\"Times,serif\" font-size=\"14.00\">data &#45;3.0000</text>\n<polyline fill=\"none\" stroke=\"black\" points=\"0,-111.5 85,-111.5\"/>\n<text text-anchor=\"middle\" x=\"42.5\" y=\"-96.3\" font-family=\"Times,serif\" font-size=\"14.00\">grad 0.0000</text>\n</g>\n<!-- 10762677648&#45;&gt;10761035984* -->\n<g id=\"edge5\" class=\"edge\">\n<title>10762677648&#45;&gt;10761035984*</title>\n<path fill=\"none\" stroke=\"black\" d=\"M84.7,-140.52C94.51,-144.68 104.84,-149.08 114.21,-153.06\"/>\n<polygon fill=\"black\" stroke=\"black\" points=\"112.72,-156.23 123.29,-156.92 115.45,-149.79 112.72,-156.23\"/>\n</g>\n<!-- 10756793296 -->\n<g id=\"node9\" class=\"node\">\n<title>10756793296</title>\n<polygon fill=\"none\" stroke=\"black\" points=\"425.5,-88.5 425.5,-157.5 507.5,-157.5 507.5,-88.5 425.5,-88.5\"/>\n<text text-anchor=\"middle\" x=\"466.5\" y=\"-142.3\" font-family=\"Times,serif\" font-size=\"14.00\">d</text>\n<polyline fill=\"none\" stroke=\"black\" points=\"425.5,-134.5 507.5,-134.5\"/>\n<text text-anchor=\"middle\" x=\"466.5\" y=\"-119.3\" font-family=\"Times,serif\" font-size=\"14.00\">data 4.0000</text>\n<polyline fill=\"none\" stroke=\"black\" points=\"425.5,-111.5 507.5,-111.5\"/>\n<text text-anchor=\"middle\" x=\"466.5\" y=\"-96.3\" font-family=\"Times,serif\" font-size=\"14.00\">grad 0.0000</text>\n</g>\n<!-- 10756793296&#45;&gt;10759186464* -->\n<g id=\"edge7\" class=\"edge\">\n<title>10756793296&#45;&gt;10759186464*</title>\n<path fill=\"none\" stroke=\"black\" d=\"M507.22,-106.11C517.41,-101.78 528.26,-97.17 538.06,-93\"/>\n<polygon fill=\"black\" stroke=\"black\" points=\"539.37,-96.25 547.2,-89.12 536.63,-89.81 539.37,-96.25\"/>\n</g>\n<!-- 10756793296+&#45;&gt;10756793296 -->\n<g id=\"edge3\" class=\"edge\">\n<title>10756793296+&#45;&gt;10756793296</title>\n<path fill=\"none\" stroke=\"black\" d=\"M388.39,-123C396.39,-123 405.46,-123 414.51,-123\"/>\n<polygon fill=\"black\" stroke=\"black\" points=\"414.35,-126.5 424.35,-123 414.35,-119.5 414.35,-126.5\"/>\n</g>\n</g>\n</svg>\n",
      "text/plain": [
       "<graphviz.graphs.Digraph at 0x2813d9a60>"
      ]
     },
     "execution_count": 445,
     "metadata": {},
     "output_type": "execute_result"
    }
   ],
   "source": [
    "draw_dot(L)"
   ]
  },
  {
   "cell_type": "code",
   "execution_count": 446,
   "metadata": {},
   "outputs": [
    {
     "name": "stdout",
     "output_type": "stream",
     "text": [
      "-8.0\n"
     ]
    }
   ],
   "source": [
    "a.data += 0.01 * a.grad\n",
    "b.data += 0.01 * b.grad\n",
    "c.data += 0.01 * c.grad\n",
    "f.data += 0.01 * f.grad\n",
    "\n",
    "e = a*b; e.label='e'\n",
    "d = e + c; d.label = 'd'\n",
    "L = d*f\n",
    "\n",
    "print(L.data)"
   ]
  },
  {
   "cell_type": "code",
   "execution_count": 447,
   "metadata": {},
   "outputs": [],
   "source": [
    "a.grad = -2.0 * -3.0\n",
    "b.grad = -2.0 * 2.0\n"
   ]
  },
  {
   "attachments": {},
   "cell_type": "markdown",
   "metadata": {},
   "source": [
    "dL / de = -2.0\n",
    "e = a*b\n",
    "de / da? b\n",
    "\n",
    "dL / da = (dL / de) * (de / da) = -2.0 * 1.0 = -2.0"
   ]
  },
  {
   "cell_type": "code",
   "execution_count": 448,
   "metadata": {},
   "outputs": [],
   "source": [
    "#dL / dc\n",
    "#dd / dc  = 1.0 \n",
    "#dd/de = 1.0\n",
    "# d = c+e\n",
    "\n",
    "# WANT:\n",
    "#dL / dc\n",
    "\n",
    "#KNOW:\n",
    "#dL / dd\n",
    "#dd / dc\n",
    "\n",
    "# dL / dc = (dL / dd) * (dd / dc)"
   ]
  },
  {
   "cell_type": "code",
   "execution_count": 449,
   "metadata": {},
   "outputs": [],
   "source": [
    "c.grad = -2.0\n",
    "e.grad = -2.0"
   ]
  },
  {
   "cell_type": "code",
   "execution_count": 450,
   "metadata": {},
   "outputs": [],
   "source": [
    "L.grad = 1.0\n",
    "f.grad = 4.0\n",
    "d.grad = -2.0"
   ]
  },
  {
   "cell_type": "code",
   "execution_count": 451,
   "metadata": {},
   "outputs": [
    {
     "name": "stdout",
     "output_type": "stream",
     "text": [
      "-1.9999999999953388\n"
     ]
    }
   ],
   "source": [
    "def lol():\n",
    "    h = 0.0001\n",
    "\n",
    "    a = Value(2.0, label='a')\n",
    "    b = Value(-3.0, label='b')\n",
    "    c = Value(10.0, label='c')\n",
    "    e = a*b; e.label='e'  \n",
    "    d = e + c; d.label = 'd'\n",
    "    f = Value(-2.0, label='f')\n",
    "    L = d*f; L.label = 'L'\n",
    "    L1 = L.data\n",
    "\n",
    "    a = Value(2.0, label='a')\n",
    "    b = Value(-3.0, label='b')\n",
    "    c = Value(10.0, label='c')\n",
    "    c.data += h\n",
    "    e = a*b; e.label='e'  \n",
    "    d = e + c; d.label = 'd'\n",
    "    f = Value(-2.0, label='f')\n",
    "    L = d*f; L.label = 'L'\n",
    "    L2 = L.data\n",
    "    \n",
    "    print((L2-L1)/h)\n",
    "lol()"
   ]
  },
  {
   "cell_type": "code",
   "execution_count": 452,
   "metadata": {},
   "outputs": [
    {
     "data": {
      "image/png": "[encoded data removed]",
      "text/plain": [
       "<Figure size 640x480 with 1 Axes>"
      ]
     },
     "metadata": {},
     "output_type": "display_data"
    }
   ],
   "source": [
    "plt.plot(np.arange(-5,5,0.2), np.tanh(np.arange(-5,5,0.2)))\n",
    "plt.grid()"
   ]
  },
  {
   "cell_type": "code",
   "execution_count": 453,
   "metadata": {},
   "outputs": [
    {
     "data": {
      "image/svg+xml": "<?xml version=\"1.0\" encoding=\"UTF-8\" standalone=\"no\"?>\n<!DOCTYPE svg PUBLIC \"-//W3C//DTD SVG 1.1//EN\"\n \"http://www.w3.org/Graphics/SVG/1.1/DTD/svg11.dtd\">\n<!-- Generated by graphviz version 7.1.0 (20230121.1956)\n -->\n<!-- Pages: 1 -->\n<svg width=\"1800pt\" height=\"386pt\"\n viewBox=\"0.00 0.00 1800.00 386.00\" xmlns=\"http://www.w3.org/2000/svg\" xmlns:xlink=\"http://www.w3.org/1999/xlink\">\n<g id=\"graph0\" class=\"graph\" transform=\"scale(1 1) rotate(0) translate(4 382)\">\n<polygon fill=\"white\" stroke=\"none\" points=\"-4,4 -4,-382 1796,-382 1796,4 -4,4\"/>\n<!-- 10761039392 -->\n<g id=\"node1\" class=\"node\">\n<title>10761039392</title>\n<polygon fill=\"none\" stroke=\"black\" points=\"842,-220.5 842,-289.5 924,-289.5 924,-220.5 842,-220.5\"/>\n<text text-anchor=\"middle\" x=\"883\" y=\"-274.3\" font-family=\"Times,serif\" font-size=\"14.00\"> </text>\n<polyline fill=\"none\" stroke=\"black\" points=\"842,-266.5 924,-266.5\"/>\n<text text-anchor=\"middle\" x=\"883\" y=\"-251.3\" font-family=\"Times,serif\" font-size=\"14.00\">data 1.7627</text>\n<polyline fill=\"none\" stroke=\"black\" points=\"842,-243.5 924,-243.5\"/>\n<text text-anchor=\"middle\" x=\"883\" y=\"-228.3\" font-family=\"Times,serif\" font-size=\"14.00\">grad 0.2500</text>\n</g>\n<!-- 10756218688exp -->\n<g id=\"node20\" class=\"node\">\n<title>10756218688exp</title>\n<ellipse fill=\"none\" stroke=\"black\" cx=\"987\" cy=\"-255\" rx=\"27\" ry=\"18\"/>\n<text text-anchor=\"middle\" x=\"987\" y=\"-251.3\" font-family=\"Times,serif\" font-size=\"14.00\">exp</text>\n</g>\n<!-- 10761039392&#45;&gt;10756218688exp -->\n<g id=\"edge26\" class=\"edge\">\n<title>10761039392&#45;&gt;10756218688exp</title>\n<path fill=\"none\" stroke=\"black\" d=\"M923.73,-255C931.85,-255 940.36,-255 948.41,-255\"/>\n<polygon fill=\"black\" stroke=\"black\" points=\"948.23,-258.5 958.23,-255 948.23,-251.5 948.23,-258.5\"/>\n</g>\n<!-- 10761039392* -->\n<g id=\"node2\" class=\"node\">\n<title>10761039392*</title>\n<ellipse fill=\"none\" stroke=\"black\" cx=\"779\" cy=\"-255\" rx=\"27\" ry=\"18\"/>\n<text text-anchor=\"middle\" x=\"779\" y=\"-251.3\" font-family=\"Times,serif\" font-size=\"14.00\">*</text>\n</g>\n<!-- 10761039392*&#45;&gt;10761039392 -->\n<g id=\"edge1\" class=\"edge\">\n<title>10761039392*&#45;&gt;10761039392</title>\n<path fill=\"none\" stroke=\"black\" d=\"M806.27,-255C813.9,-255 822.51,-255 831.12,-255\"/>\n<polygon fill=\"black\" stroke=\"black\" points=\"830.83,-258.5 840.83,-255 830.83,-251.5 830.83,-258.5\"/>\n</g>\n<!-- 10761196064 -->\n<g id=\"node3\" class=\"node\">\n<title>10761196064</title>\n<polygon fill=\"none\" stroke=\"black\" points=\"1262,-184.5 1262,-253.5 1348,-253.5 1348,-184.5 1262,-184.5\"/>\n<text text-anchor=\"middle\" x=\"1305\" y=\"-238.3\" font-family=\"Times,serif\" font-size=\"14.00\"> </text>\n<polyline fill=\"none\" stroke=\"black\" points=\"1262,-230.5 1348,-230.5\"/>\n<text text-anchor=\"middle\" x=\"1305\" y=\"-215.3\" font-family=\"Times,serif\" font-size=\"14.00\">data 6.8284</text>\n<polyline fill=\"none\" stroke=\"black\" points=\"1262,-207.5 1348,-207.5\"/>\n<text text-anchor=\"middle\" x=\"1305\" y=\"-192.3\" font-family=\"Times,serif\" font-size=\"14.00\">grad &#45;0.1036</text>\n</g>\n<!-- 10761198944**&#45;1 -->\n<g id=\"node22\" class=\"node\">\n<title>10761198944**&#45;1</title>\n<ellipse fill=\"none\" stroke=\"black\" cx=\"1425\" cy=\"-219\" rx=\"27\" ry=\"18\"/>\n<text text-anchor=\"middle\" x=\"1425\" y=\"-215.3\" font-family=\"Times,serif\" font-size=\"14.00\">**&#45;1</text>\n</g>\n<!-- 10761196064&#45;&gt;10761198944**&#45;1 -->\n<g id=\"edge23\" class=\"edge\">\n<title>10761196064&#45;&gt;10761198944**&#45;1</title>\n<path fill=\"none\" stroke=\"black\" d=\"M1347.93,-219C1360.48,-219 1374.16,-219 1386.41,-219\"/>\n<polygon fill=\"black\" stroke=\"black\" points=\"1386.13,-222.5 1396.13,-219 1386.13,-215.5 1386.13,-222.5\"/>\n</g>\n<!-- 10761196064+ -->\n<g id=\"node4\" class=\"node\">\n<title>10761196064+</title>\n<ellipse fill=\"none\" stroke=\"black\" cx=\"1199\" cy=\"-219\" rx=\"27\" ry=\"18\"/>\n<text text-anchor=\"middle\" x=\"1199\" y=\"-215.3\" font-family=\"Times,serif\" font-size=\"14.00\">+</text>\n</g>\n<!-- 10761196064+&#45;&gt;10761196064 -->\n<g id=\"edge2\" class=\"edge\">\n<title>10761196064+&#45;&gt;10761196064</title>\n<path fill=\"none\" stroke=\"black\" d=\"M1226.24,-219C1233.86,-219 1242.46,-219 1251.09,-219\"/>\n<polygon fill=\"black\" stroke=\"black\" points=\"1250.87,-222.5 1260.87,-219 1250.87,-215.5 1250.87,-222.5\"/>\n</g>\n<!-- 10763049568 -->\n<g id=\"node5\" class=\"node\">\n<title>10763049568</title>\n<polygon fill=\"none\" stroke=\"black\" points=\"0.5,-88.5 0.5,-157.5 85.5,-157.5 85.5,-88.5 0.5,-88.5\"/>\n<text text-anchor=\"middle\" x=\"43\" y=\"-142.3\" font-family=\"Times,serif\" font-size=\"14.00\">w1</text>\n<polyline fill=\"none\" stroke=\"black\" points=\"0.5,-134.5 85.5,-134.5\"/>\n<text text-anchor=\"middle\" x=\"43\" y=\"-119.3\" font-family=\"Times,serif\" font-size=\"14.00\">data &#45;3.0000</text>\n<polyline fill=\"none\" stroke=\"black\" points=\"0.5,-111.5 85.5,-111.5\"/>\n<text text-anchor=\"middle\" x=\"43\" y=\"-96.3\" font-family=\"Times,serif\" font-size=\"14.00\">grad 1.0000</text>\n</g>\n<!-- 10763049376* -->\n<g id=\"node25\" class=\"node\">\n<title>10763049376*</title>\n<ellipse fill=\"none\" stroke=\"black\" cx=\"149\" cy=\"-123\" rx=\"27\" ry=\"18\"/>\n<text text-anchor=\"middle\" x=\"149\" y=\"-119.3\" font-family=\"Times,serif\" font-size=\"14.00\">*</text>\n</g>\n<!-- 10763049568&#45;&gt;10763049376* -->\n<g id=\"edge18\" class=\"edge\">\n<title>10763049568&#45;&gt;10763049376*</title>\n<path fill=\"none\" stroke=\"black\" d=\"M85.4,-123C93.62,-123 102.21,-123 110.3,-123\"/>\n<polygon fill=\"black\" stroke=\"black\" points=\"110.18,-126.5 120.18,-123 110.18,-119.5 110.18,-126.5\"/>\n</g>\n<!-- 10761199232 -->\n<g id=\"node6\" class=\"node\">\n<title>10761199232</title>\n<polygon fill=\"none\" stroke=\"black\" points=\"1384,-255.5 1384,-324.5 1466,-324.5 1466,-255.5 1384,-255.5\"/>\n<text text-anchor=\"middle\" x=\"1425\" y=\"-309.3\" font-family=\"Times,serif\" font-size=\"14.00\"> </text>\n<polyline fill=\"none\" stroke=\"black\" points=\"1384,-301.5 1466,-301.5\"/>\n<text text-anchor=\"middle\" x=\"1425\" y=\"-286.3\" font-family=\"Times,serif\" font-size=\"14.00\">data 4.8284</text>\n<polyline fill=\"none\" stroke=\"black\" points=\"1384,-278.5 1466,-278.5\"/>\n<text text-anchor=\"middle\" x=\"1425\" y=\"-263.3\" font-family=\"Times,serif\" font-size=\"14.00\">grad 0.1464</text>\n</g>\n<!-- 10763035072* -->\n<g id=\"node27\" class=\"node\">\n<title>10763035072*</title>\n<ellipse fill=\"none\" stroke=\"black\" cx=\"1647\" cy=\"-254\" rx=\"27\" ry=\"18\"/>\n<text text-anchor=\"middle\" x=\"1647\" y=\"-250.3\" font-family=\"Times,serif\" font-size=\"14.00\">*</text>\n</g>\n<!-- 10761199232&#45;&gt;10763035072* -->\n<g id=\"edge17\" class=\"edge\">\n<title>10761199232&#45;&gt;10763035072*</title>\n<path fill=\"none\" stroke=\"black\" d=\"M1465.72,-284.91C1497.74,-280.65 1543.88,-274.12 1584,-267 1592.41,-265.51 1601.43,-263.72 1609.91,-261.96\"/>\n<polygon fill=\"black\" stroke=\"black\" points=\"1610.49,-265.42 1619.55,-259.92 1609.04,-258.57 1610.49,-265.42\"/>\n</g>\n<!-- 10761199232+ -->\n<g id=\"node7\" class=\"node\">\n<title>10761199232+</title>\n<ellipse fill=\"none\" stroke=\"black\" cx=\"1199\" cy=\"-290\" rx=\"27\" ry=\"18\"/>\n<text text-anchor=\"middle\" x=\"1199\" y=\"-286.3\" font-family=\"Times,serif\" font-size=\"14.00\">+</text>\n</g>\n<!-- 10761199232+&#45;&gt;10761199232 -->\n<g id=\"edge3\" class=\"edge\">\n<title>10761199232+&#45;&gt;10761199232</title>\n<path fill=\"none\" stroke=\"black\" d=\"M1226.13,-290C1261.91,-290 1326.91,-290 1372.62,-290\"/>\n<polygon fill=\"black\" stroke=\"black\" points=\"1372.57,-293.5 1382.57,-290 1372.57,-286.5 1372.57,-293.5\"/>\n</g>\n<!-- 10763049616 -->\n<g id=\"node8\" class=\"node\">\n<title>10763049616</title>\n<polygon fill=\"none\" stroke=\"black\" points=\"424.5,-220.5 424.5,-289.5 506.5,-289.5 506.5,-220.5 424.5,-220.5\"/>\n<text text-anchor=\"middle\" x=\"465.5\" y=\"-274.3\" font-family=\"Times,serif\" font-size=\"14.00\">b</text>\n<polyline fill=\"none\" stroke=\"black\" points=\"424.5,-266.5 506.5,-266.5\"/>\n<text text-anchor=\"middle\" x=\"465.5\" y=\"-251.3\" font-family=\"Times,serif\" font-size=\"14.00\">data 6.8814</text>\n<polyline fill=\"none\" stroke=\"black\" points=\"424.5,-243.5 506.5,-243.5\"/>\n<text text-anchor=\"middle\" x=\"465.5\" y=\"-228.3\" font-family=\"Times,serif\" font-size=\"14.00\">grad 0.5000</text>\n</g>\n<!-- 10763034880+ -->\n<g id=\"node16\" class=\"node\">\n<title>10763034880+</title>\n<ellipse fill=\"none\" stroke=\"black\" cx=\"571\" cy=\"-211\" rx=\"27\" ry=\"18\"/>\n<text text-anchor=\"middle\" x=\"571\" y=\"-207.3\" font-family=\"Times,serif\" font-size=\"14.00\">+</text>\n</g>\n<!-- 10763049616&#45;&gt;10763034880+ -->\n<g id=\"edge13\" class=\"edge\">\n<title>10763049616&#45;&gt;10763034880+</title>\n<path fill=\"none\" stroke=\"black\" d=\"M506.22,-238.11C516.41,-233.78 527.26,-229.17 537.06,-225\"/>\n<polygon fill=\"black\" stroke=\"black\" points=\"538.37,-228.25 546.2,-221.12 535.63,-221.81 538.37,-228.25\"/>\n</g>\n<!-- 10763034784 -->\n<g id=\"node9\" class=\"node\">\n<title>10763034784</title>\n<polygon fill=\"none\" stroke=\"black\" points=\"423,-132.5 423,-201.5 508,-201.5 508,-132.5 423,-132.5\"/>\n<text text-anchor=\"middle\" x=\"465.5\" y=\"-186.3\" font-family=\"Times,serif\" font-size=\"14.00\">x1w1+x2w2</text>\n<polyline fill=\"none\" stroke=\"black\" points=\"423,-178.5 508,-178.5\"/>\n<text text-anchor=\"middle\" x=\"465.5\" y=\"-163.3\" font-family=\"Times,serif\" font-size=\"14.00\">data &#45;6.0000</text>\n<polyline fill=\"none\" stroke=\"black\" points=\"423,-155.5 508,-155.5\"/>\n<text text-anchor=\"middle\" x=\"465.5\" y=\"-140.3\" font-family=\"Times,serif\" font-size=\"14.00\">grad 0.5000</text>\n</g>\n<!-- 10763034784&#45;&gt;10763034880+ -->\n<g id=\"edge22\" class=\"edge\">\n<title>10763034784&#45;&gt;10763034880+</title>\n<path fill=\"none\" stroke=\"black\" d=\"M507.7,-184.52C517.51,-188.68 527.84,-193.08 537.21,-197.06\"/>\n<polygon fill=\"black\" stroke=\"black\" points=\"535.72,-200.23 546.29,-200.92 538.45,-193.79 535.72,-200.23\"/>\n</g>\n<!-- 10763034784+ -->\n<g id=\"node10\" class=\"node\">\n<title>10763034784+</title>\n<ellipse fill=\"none\" stroke=\"black\" cx=\"360\" cy=\"-167\" rx=\"27\" ry=\"18\"/>\n<text text-anchor=\"middle\" x=\"360\" y=\"-163.3\" font-family=\"Times,serif\" font-size=\"14.00\">+</text>\n</g>\n<!-- 10763034784+&#45;&gt;10763034784 -->\n<g id=\"edge4\" class=\"edge\">\n<title>10763034784+&#45;&gt;10763034784</title>\n<path fill=\"none\" stroke=\"black\" d=\"M387.39,-167C394.88,-167 403.32,-167 411.79,-167\"/>\n<polygon fill=\"black\" stroke=\"black\" points=\"411.76,-170.5 421.76,-167 411.76,-163.5 411.76,-170.5\"/>\n</g>\n<!-- 10761199280 -->\n<g id=\"node11\" class=\"node\">\n<title>10761199280</title>\n<polygon fill=\"none\" stroke=\"black\" points=\"1050.5,-308.5 1050.5,-377.5 1135.5,-377.5 1135.5,-308.5 1050.5,-308.5\"/>\n<text text-anchor=\"middle\" x=\"1093\" y=\"-362.3\" font-family=\"Times,serif\" font-size=\"14.00\"> </text>\n<polyline fill=\"none\" stroke=\"black\" points=\"1050.5,-354.5 1135.5,-354.5\"/>\n<text text-anchor=\"middle\" x=\"1093\" y=\"-339.3\" font-family=\"Times,serif\" font-size=\"14.00\">data &#45;1.0000</text>\n<polyline fill=\"none\" stroke=\"black\" points=\"1050.5,-331.5 1135.5,-331.5\"/>\n<text text-anchor=\"middle\" x=\"1093\" y=\"-316.3\" font-family=\"Times,serif\" font-size=\"14.00\">grad 0.1464</text>\n</g>\n<!-- 10761199280&#45;&gt;10761199232+ -->\n<g id=\"edge24\" class=\"edge\">\n<title>10761199280&#45;&gt;10761199232+</title>\n<path fill=\"none\" stroke=\"black\" d=\"M1135.4,-321.9C1145.8,-316.6 1156.79,-311 1166.61,-306\"/>\n<polygon fill=\"black\" stroke=\"black\" points=\"1168.06,-309.19 1175.38,-301.53 1164.88,-302.95 1168.06,-309.19\"/>\n</g>\n<!-- 10761039488 -->\n<g id=\"node12\" class=\"node\">\n<title>10761039488</title>\n<polygon fill=\"none\" stroke=\"black\" points=\"634,-264.5 634,-333.5 716,-333.5 716,-264.5 634,-264.5\"/>\n<text text-anchor=\"middle\" x=\"675\" y=\"-318.3\" font-family=\"Times,serif\" font-size=\"14.00\"> </text>\n<polyline fill=\"none\" stroke=\"black\" points=\"634,-310.5 716,-310.5\"/>\n<text text-anchor=\"middle\" x=\"675\" y=\"-295.3\" font-family=\"Times,serif\" font-size=\"14.00\">data 2.0000</text>\n<polyline fill=\"none\" stroke=\"black\" points=\"634,-287.5 716,-287.5\"/>\n<text text-anchor=\"middle\" x=\"675\" y=\"-272.3\" font-family=\"Times,serif\" font-size=\"14.00\">grad 0.2203</text>\n</g>\n<!-- 10761039488&#45;&gt;10761039392* -->\n<g id=\"edge16\" class=\"edge\">\n<title>10761039488&#45;&gt;10761039392*</title>\n<path fill=\"none\" stroke=\"black\" d=\"M715.73,-281.86C725.46,-277.67 735.76,-273.22 745.13,-269.18\"/>\n<polygon fill=\"black\" stroke=\"black\" points=\"746.42,-272.43 754.22,-265.26 743.65,-266.01 746.42,-272.43\"/>\n</g>\n<!-- 10763049184 -->\n<g id=\"node13\" class=\"node\">\n<title>10763049184</title>\n<polygon fill=\"none\" stroke=\"black\" points=\"213.5,-176.5 213.5,-245.5 295.5,-245.5 295.5,-176.5 213.5,-176.5\"/>\n<text text-anchor=\"middle\" x=\"254.5\" y=\"-230.3\" font-family=\"Times,serif\" font-size=\"14.00\">x2w2</text>\n<polyline fill=\"none\" stroke=\"black\" points=\"213.5,-222.5 295.5,-222.5\"/>\n<text text-anchor=\"middle\" x=\"254.5\" y=\"-207.3\" font-family=\"Times,serif\" font-size=\"14.00\">data 0.0000</text>\n<polyline fill=\"none\" stroke=\"black\" points=\"213.5,-199.5 295.5,-199.5\"/>\n<text text-anchor=\"middle\" x=\"254.5\" y=\"-184.3\" font-family=\"Times,serif\" font-size=\"14.00\">grad 0.5000</text>\n</g>\n<!-- 10763049184&#45;&gt;10763034784+ -->\n<g id=\"edge20\" class=\"edge\">\n<title>10763049184&#45;&gt;10763034784+</title>\n<path fill=\"none\" stroke=\"black\" d=\"M295.22,-194.11C305.41,-189.78 316.26,-185.17 326.06,-181\"/>\n<polygon fill=\"black\" stroke=\"black\" points=\"327.37,-184.25 335.2,-177.12 324.63,-177.81 327.37,-184.25\"/>\n</g>\n<!-- 10763049184* -->\n<g id=\"node14\" class=\"node\">\n<title>10763049184*</title>\n<ellipse fill=\"none\" stroke=\"black\" cx=\"149\" cy=\"-211\" rx=\"27\" ry=\"18\"/>\n<text text-anchor=\"middle\" x=\"149\" y=\"-207.3\" font-family=\"Times,serif\" font-size=\"14.00\">*</text>\n</g>\n<!-- 10763049184*&#45;&gt;10763049184 -->\n<g id=\"edge5\" class=\"edge\">\n<title>10763049184*&#45;&gt;10763049184</title>\n<path fill=\"none\" stroke=\"black\" d=\"M176.39,-211C184.39,-211 193.46,-211 202.51,-211\"/>\n<polygon fill=\"black\" stroke=\"black\" points=\"202.35,-214.5 212.35,-211 202.35,-207.5 202.35,-214.5\"/>\n</g>\n<!-- 10763034880 -->\n<g id=\"node15\" class=\"node\">\n<title>10763034880</title>\n<polygon fill=\"none\" stroke=\"black\" points=\"634,-176.5 634,-245.5 716,-245.5 716,-176.5 634,-176.5\"/>\n<text text-anchor=\"middle\" x=\"675\" y=\"-230.3\" font-family=\"Times,serif\" font-size=\"14.00\">n</text>\n<polyline fill=\"none\" stroke=\"black\" points=\"634,-222.5 716,-222.5\"/>\n<text text-anchor=\"middle\" x=\"675\" y=\"-207.3\" font-family=\"Times,serif\" font-size=\"14.00\">data 0.8814</text>\n<polyline fill=\"none\" stroke=\"black\" points=\"634,-199.5 716,-199.5\"/>\n<text text-anchor=\"middle\" x=\"675\" y=\"-184.3\" font-family=\"Times,serif\" font-size=\"14.00\">grad 0.5000</text>\n</g>\n<!-- 10763034880&#45;&gt;10761039392* -->\n<g id=\"edge12\" class=\"edge\">\n<title>10763034880&#45;&gt;10761039392*</title>\n<path fill=\"none\" stroke=\"black\" d=\"M715.73,-228.14C725.46,-232.33 735.76,-236.78 745.13,-240.82\"/>\n<polygon fill=\"black\" stroke=\"black\" points=\"743.65,-243.99 754.22,-244.74 746.42,-237.57 743.65,-243.99\"/>\n</g>\n<!-- 10763034880+&#45;&gt;10763034880 -->\n<g id=\"edge6\" class=\"edge\">\n<title>10763034880+&#45;&gt;10763034880</title>\n<path fill=\"none\" stroke=\"black\" d=\"M598.27,-211C605.9,-211 614.51,-211 623.12,-211\"/>\n<polygon fill=\"black\" stroke=\"black\" points=\"622.83,-214.5 632.83,-211 622.83,-207.5 622.83,-214.5\"/>\n</g>\n<!-- 10766970640 -->\n<g id=\"node17\" class=\"node\">\n<title>10766970640</title>\n<polygon fill=\"none\" stroke=\"black\" points=\"0,-0.5 0,-69.5 86,-69.5 86,-0.5 0,-0.5\"/>\n<text text-anchor=\"middle\" x=\"43\" y=\"-54.3\" font-family=\"Times,serif\" font-size=\"14.00\">x1</text>\n<polyline fill=\"none\" stroke=\"black\" points=\"0,-46.5 86,-46.5\"/>\n<text text-anchor=\"middle\" x=\"43\" y=\"-31.3\" font-family=\"Times,serif\" font-size=\"14.00\">data 2.0000</text>\n<polyline fill=\"none\" stroke=\"black\" points=\"0,-23.5 86,-23.5\"/>\n<text text-anchor=\"middle\" x=\"43\" y=\"-8.3\" font-family=\"Times,serif\" font-size=\"14.00\">grad &#45;1.5000</text>\n</g>\n<!-- 10766970640&#45;&gt;10763049376* -->\n<g id=\"edge28\" class=\"edge\">\n<title>10766970640&#45;&gt;10763049376*</title>\n<path fill=\"none\" stroke=\"black\" d=\"M84.51,-69.28C97.38,-80.17 111.24,-91.89 122.71,-101.6\"/>\n<polygon fill=\"black\" stroke=\"black\" points=\"120.29,-104.14 130.19,-107.93 124.81,-98.8 120.29,-104.14\"/>\n</g>\n<!-- 10761195824 -->\n<g id=\"node18\" class=\"node\">\n<title>10761195824</title>\n<polygon fill=\"none\" stroke=\"black\" points=\"1050,-132.5 1050,-201.5 1136,-201.5 1136,-132.5 1050,-132.5\"/>\n<text text-anchor=\"middle\" x=\"1093\" y=\"-186.3\" font-family=\"Times,serif\" font-size=\"14.00\"> </text>\n<polyline fill=\"none\" stroke=\"black\" points=\"1050,-178.5 1136,-178.5\"/>\n<text text-anchor=\"middle\" x=\"1093\" y=\"-163.3\" font-family=\"Times,serif\" font-size=\"14.00\">data 1.0000</text>\n<polyline fill=\"none\" stroke=\"black\" points=\"1050,-155.5 1136,-155.5\"/>\n<text text-anchor=\"middle\" x=\"1093\" y=\"-140.3\" font-family=\"Times,serif\" font-size=\"14.00\">grad &#45;0.1036</text>\n</g>\n<!-- 10761195824&#45;&gt;10761196064+ -->\n<g id=\"edge21\" class=\"edge\">\n<title>10761195824&#45;&gt;10761196064+</title>\n<path fill=\"none\" stroke=\"black\" d=\"M1135.7,-187.85C1146.08,-193.04 1157.02,-198.51 1166.79,-203.4\"/>\n<polygon fill=\"black\" stroke=\"black\" points=\"1164.99,-206.41 1175.5,-207.75 1168.12,-200.15 1164.99,-206.41\"/>\n</g>\n<!-- 10756218688 -->\n<g id=\"node19\" class=\"node\">\n<title>10756218688</title>\n<polygon fill=\"none\" stroke=\"black\" points=\"1052,-220.5 1052,-289.5 1134,-289.5 1134,-220.5 1052,-220.5\"/>\n<text text-anchor=\"middle\" x=\"1093\" y=\"-274.3\" font-family=\"Times,serif\" font-size=\"14.00\">e</text>\n<polyline fill=\"none\" stroke=\"black\" points=\"1052,-266.5 1134,-266.5\"/>\n<text text-anchor=\"middle\" x=\"1093\" y=\"-251.3\" font-family=\"Times,serif\" font-size=\"14.00\">data 5.8284</text>\n<polyline fill=\"none\" stroke=\"black\" points=\"1052,-243.5 1134,-243.5\"/>\n<text text-anchor=\"middle\" x=\"1093\" y=\"-228.3\" font-family=\"Times,serif\" font-size=\"14.00\">grad 0.0429</text>\n</g>\n<!-- 10756218688&#45;&gt;10761196064+ -->\n<g id=\"edge14\" class=\"edge\">\n<title>10756218688&#45;&gt;10761196064+</title>\n<path fill=\"none\" stroke=\"black\" d=\"M1133.91,-241.18C1143.79,-237.76 1154.29,-234.13 1163.87,-230.82\"/>\n<polygon fill=\"black\" stroke=\"black\" points=\"1164.86,-234.18 1173.17,-227.6 1162.57,-227.56 1164.86,-234.18\"/>\n</g>\n<!-- 10756218688&#45;&gt;10761199232+ -->\n<g id=\"edge19\" class=\"edge\">\n<title>10756218688&#45;&gt;10761199232+</title>\n<path fill=\"none\" stroke=\"black\" d=\"M1133.91,-268.43C1143.71,-271.73 1154.12,-275.23 1163.63,-278.43\"/>\n<polygon fill=\"black\" stroke=\"black\" points=\"1162.27,-281.67 1172.86,-281.54 1164.5,-275.03 1162.27,-281.67\"/>\n</g>\n<!-- 10756218688exp&#45;&gt;10756218688 -->\n<g id=\"edge7\" class=\"edge\">\n<title>10756218688exp&#45;&gt;10756218688</title>\n<path fill=\"none\" stroke=\"black\" d=\"M1014.24,-255C1022.46,-255 1031.82,-255 1041.13,-255\"/>\n<polygon fill=\"black\" stroke=\"black\" points=\"1040.87,-258.5 1050.87,-255 1040.87,-251.5 1040.87,-258.5\"/>\n</g>\n<!-- 10761198944 -->\n<g id=\"node21\" class=\"node\">\n<title>10761198944</title>\n<polygon fill=\"none\" stroke=\"black\" points=\"1502,-188.5 1502,-257.5 1584,-257.5 1584,-188.5 1502,-188.5\"/>\n<text text-anchor=\"middle\" x=\"1543\" y=\"-242.3\" font-family=\"Times,serif\" font-size=\"14.00\"> </text>\n<polyline fill=\"none\" stroke=\"black\" points=\"1502,-234.5 1584,-234.5\"/>\n<text text-anchor=\"middle\" x=\"1543\" y=\"-219.3\" font-family=\"Times,serif\" font-size=\"14.00\">data 0.1464</text>\n<polyline fill=\"none\" stroke=\"black\" points=\"1502,-211.5 1584,-211.5\"/>\n<text text-anchor=\"middle\" x=\"1543\" y=\"-196.3\" font-family=\"Times,serif\" font-size=\"14.00\">grad 4.8284</text>\n</g>\n<!-- 10761198944&#45;&gt;10763035072* -->\n<g id=\"edge25\" class=\"edge\">\n<title>10761198944&#45;&gt;10763035072*</title>\n<path fill=\"none\" stroke=\"black\" d=\"M1583.73,-235.07C1592.67,-237.79 1602.11,-240.66 1610.85,-243.32\"/>\n<polygon fill=\"black\" stroke=\"black\" points=\"1609.81,-246.66 1620.4,-246.22 1611.85,-239.96 1609.81,-246.66\"/>\n</g>\n<!-- 10761198944**&#45;1&#45;&gt;10761198944 -->\n<g id=\"edge8\" class=\"edge\">\n<title>10761198944**&#45;1&#45;&gt;10761198944</title>\n<path fill=\"none\" stroke=\"black\" d=\"M1452.32,-219.91C1463.7,-220.3 1477.42,-220.77 1490.66,-221.23\"/>\n<polygon fill=\"black\" stroke=\"black\" points=\"1490.49,-224.73 1500.6,-221.57 1490.73,-217.73 1490.49,-224.73\"/>\n</g>\n<!-- 10766969200 -->\n<g id=\"node23\" class=\"node\">\n<title>10766969200</title>\n<polygon fill=\"none\" stroke=\"black\" points=\"2,-264.5 2,-333.5 84,-333.5 84,-264.5 2,-264.5\"/>\n<text text-anchor=\"middle\" x=\"43\" y=\"-318.3\" font-family=\"Times,serif\" font-size=\"14.00\">x2</text>\n<polyline fill=\"none\" stroke=\"black\" points=\"2,-310.5 84,-310.5\"/>\n<text text-anchor=\"middle\" x=\"43\" y=\"-295.3\" font-family=\"Times,serif\" font-size=\"14.00\">data 0.0000</text>\n<polyline fill=\"none\" stroke=\"black\" points=\"2,-287.5 84,-287.5\"/>\n<text text-anchor=\"middle\" x=\"43\" y=\"-272.3\" font-family=\"Times,serif\" font-size=\"14.00\">grad 0.5000</text>\n</g>\n<!-- 10766969200&#45;&gt;10763049184* -->\n<g id=\"edge11\" class=\"edge\">\n<title>10766969200&#45;&gt;10763049184*</title>\n<path fill=\"none\" stroke=\"black\" d=\"M83.91,-265.23C96.93,-254.21 111.02,-242.29 122.66,-232.44\"/>\n<polygon fill=\"black\" stroke=\"black\" points=\"124.88,-235.15 130.25,-226.02 120.36,-229.81 124.88,-235.15\"/>\n</g>\n<!-- 10763049376 -->\n<g id=\"node24\" class=\"node\">\n<title>10763049376</title>\n<polygon fill=\"none\" stroke=\"black\" points=\"212,-88.5 212,-157.5 297,-157.5 297,-88.5 212,-88.5\"/>\n<text text-anchor=\"middle\" x=\"254.5\" y=\"-142.3\" font-family=\"Times,serif\" font-size=\"14.00\">x1w1</text>\n<polyline fill=\"none\" stroke=\"black\" points=\"212,-134.5 297,-134.5\"/>\n<text text-anchor=\"middle\" x=\"254.5\" y=\"-119.3\" font-family=\"Times,serif\" font-size=\"14.00\">data &#45;6.0000</text>\n<polyline fill=\"none\" stroke=\"black\" points=\"212,-111.5 297,-111.5\"/>\n<text text-anchor=\"middle\" x=\"254.5\" y=\"-96.3\" font-family=\"Times,serif\" font-size=\"14.00\">grad 0.5000</text>\n</g>\n<!-- 10763049376&#45;&gt;10763034784+ -->\n<g id=\"edge15\" class=\"edge\">\n<title>10763049376&#45;&gt;10763034784+</title>\n<path fill=\"none\" stroke=\"black\" d=\"M296.7,-140.52C306.51,-144.68 316.84,-149.08 326.21,-153.06\"/>\n<polygon fill=\"black\" stroke=\"black\" points=\"324.72,-156.23 335.29,-156.92 327.45,-149.79 324.72,-156.23\"/>\n</g>\n<!-- 10763049376*&#45;&gt;10763049376 -->\n<g id=\"edge9\" class=\"edge\">\n<title>10763049376*&#45;&gt;10763049376</title>\n<path fill=\"none\" stroke=\"black\" d=\"M176.39,-123C183.88,-123 192.32,-123 200.79,-123\"/>\n<polygon fill=\"black\" stroke=\"black\" points=\"200.76,-126.5 210.76,-123 200.76,-119.5 200.76,-126.5\"/>\n</g>\n<!-- 10763035072 -->\n<g id=\"node26\" class=\"node\">\n<title>10763035072</title>\n<polygon fill=\"none\" stroke=\"black\" points=\"1710,-219.5 1710,-288.5 1792,-288.5 1792,-219.5 1710,-219.5\"/>\n<text text-anchor=\"middle\" x=\"1751\" y=\"-273.3\" font-family=\"Times,serif\" font-size=\"14.00\">o</text>\n<polyline fill=\"none\" stroke=\"black\" points=\"1710,-265.5 1792,-265.5\"/>\n<text text-anchor=\"middle\" x=\"1751\" y=\"-250.3\" font-family=\"Times,serif\" font-size=\"14.00\">data 0.7071</text>\n<polyline fill=\"none\" stroke=\"black\" points=\"1710,-242.5 1792,-242.5\"/>\n<text text-anchor=\"middle\" x=\"1751\" y=\"-227.3\" font-family=\"Times,serif\" font-size=\"14.00\">grad 1.0000</text>\n</g>\n<!-- 10763035072*&#45;&gt;10763035072 -->\n<g id=\"edge10\" class=\"edge\">\n<title>10763035072*&#45;&gt;10763035072</title>\n<path fill=\"none\" stroke=\"black\" d=\"M1674.27,-254C1681.9,-254 1690.51,-254 1699.12,-254\"/>\n<polygon fill=\"black\" stroke=\"black\" points=\"1698.83,-257.5 1708.83,-254 1698.83,-250.5 1698.83,-257.5\"/>\n</g>\n<!-- 10766969296 -->\n<g id=\"node28\" class=\"node\">\n<title>10766969296</title>\n<polygon fill=\"none\" stroke=\"black\" points=\"2,-176.5 2,-245.5 84,-245.5 84,-176.5 2,-176.5\"/>\n<text text-anchor=\"middle\" x=\"43\" y=\"-230.3\" font-family=\"Times,serif\" font-size=\"14.00\">w2</text>\n<polyline fill=\"none\" stroke=\"black\" points=\"2,-222.5 84,-222.5\"/>\n<text text-anchor=\"middle\" x=\"43\" y=\"-207.3\" font-family=\"Times,serif\" font-size=\"14.00\">data 1.0000</text>\n<polyline fill=\"none\" stroke=\"black\" points=\"2,-199.5 84,-199.5\"/>\n<text text-anchor=\"middle\" x=\"43\" y=\"-184.3\" font-family=\"Times,serif\" font-size=\"14.00\">grad 0.0000</text>\n</g>\n<!-- 10766969296&#45;&gt;10763049184* -->\n<g id=\"edge27\" class=\"edge\">\n<title>10766969296&#45;&gt;10763049184*</title>\n<path fill=\"none\" stroke=\"black\" d=\"M83.91,-211C92.58,-211 101.71,-211 110.29,-211\"/>\n<polygon fill=\"black\" stroke=\"black\" points=\"110.02,-214.5 120.02,-211 110.02,-207.5 110.02,-214.5\"/>\n</g>\n</g>\n</svg>\n",
      "text/plain": [
       "<graphviz.graphs.Digraph at 0x281871af0>"
      ]
     },
     "execution_count": 453,
     "metadata": {},
     "output_type": "execute_result"
    }
   ],
   "source": [
    "# inputs x1, x2\n",
    "x1 = Value(2.0, label='x1')\n",
    "x2 = Value(0.0, label='x2')\n",
    "\n",
    "# weights\n",
    "w1 = Value(-3.0, label='w1')\n",
    "w2 = Value(1.0, label='w2')\n",
    "\n",
    "# bias\n",
    "b = Value(6.8813735870195432, label='b')\n",
    "\n",
    "x1w1 = x1*w1; x1w1.label = 'x1w1'\n",
    "x2w2 = x2*w2; x2w2.label = 'x2w2'\n",
    "x1w1x2w2 = x1w1 + x2w2; x1w1x2w2.label = 'x1w1+x2w2'\n",
    "n = x1w1x2w2 + b; n.label = 'n'\n",
    "e = (2*n).exp(); e.label = 'e'\n",
    "o = (e-1)/(e+1); o.label = 'o'\n",
    "o.backward()\n",
    "draw_dot(o)"
   ]
  },
  {
   "cell_type": "code",
   "execution_count": null,
   "metadata": {},
   "outputs": [],
   "source": []
  },
  {
   "cell_type": "code",
   "execution_count": 454,
   "metadata": {},
   "outputs": [
    {
     "data": {
      "image/svg+xml": "<?xml version=\"1.0\" encoding=\"UTF-8\" standalone=\"no\"?>\n<!DOCTYPE svg PUBLIC \"-//W3C//DTD SVG 1.1//EN\"\n \"http://www.w3.org/Graphics/SVG/1.1/DTD/svg11.dtd\">\n<!-- Generated by graphviz version 7.1.0 (20230121.1956)\n -->\n<!-- Pages: 1 -->\n<svg width=\"1800pt\" height=\"386pt\"\n viewBox=\"0.00 0.00 1800.00 386.00\" xmlns=\"http://www.w3.org/2000/svg\" xmlns:xlink=\"http://www.w3.org/1999/xlink\">\n<g id=\"graph0\" class=\"graph\" transform=\"scale(1 1) rotate(0) translate(4 382)\">\n<polygon fill=\"white\" stroke=\"none\" points=\"-4,4 -4,-382 1796,-382 1796,4 -4,4\"/>\n<!-- 10761039392 -->\n<g id=\"node1\" class=\"node\">\n<title>10761039392</title>\n<polygon fill=\"none\" stroke=\"black\" points=\"842,-220.5 842,-289.5 924,-289.5 924,-220.5 842,-220.5\"/>\n<text text-anchor=\"middle\" x=\"883\" y=\"-274.3\" font-family=\"Times,serif\" font-size=\"14.00\"> </text>\n<polyline fill=\"none\" stroke=\"black\" points=\"842,-266.5 924,-266.5\"/>\n<text text-anchor=\"middle\" x=\"883\" y=\"-251.3\" font-family=\"Times,serif\" font-size=\"14.00\">data 1.7627</text>\n<polyline fill=\"none\" stroke=\"black\" points=\"842,-243.5 924,-243.5\"/>\n<text text-anchor=\"middle\" x=\"883\" y=\"-228.3\" font-family=\"Times,serif\" font-size=\"14.00\">grad 0.2500</text>\n</g>\n<!-- 10756218688exp -->\n<g id=\"node20\" class=\"node\">\n<title>10756218688exp</title>\n<ellipse fill=\"none\" stroke=\"black\" cx=\"987\" cy=\"-255\" rx=\"27\" ry=\"18\"/>\n<text text-anchor=\"middle\" x=\"987\" y=\"-251.3\" font-family=\"Times,serif\" font-size=\"14.00\">exp</text>\n</g>\n<!-- 10761039392&#45;&gt;10756218688exp -->\n<g id=\"edge26\" class=\"edge\">\n<title>10761039392&#45;&gt;10756218688exp</title>\n<path fill=\"none\" stroke=\"black\" d=\"M923.73,-255C931.85,-255 940.36,-255 948.41,-255\"/>\n<polygon fill=\"black\" stroke=\"black\" points=\"948.23,-258.5 958.23,-255 948.23,-251.5 948.23,-258.5\"/>\n</g>\n<!-- 10761039392* -->\n<g id=\"node2\" class=\"node\">\n<title>10761039392*</title>\n<ellipse fill=\"none\" stroke=\"black\" cx=\"779\" cy=\"-255\" rx=\"27\" ry=\"18\"/>\n<text text-anchor=\"middle\" x=\"779\" y=\"-251.3\" font-family=\"Times,serif\" font-size=\"14.00\">*</text>\n</g>\n<!-- 10761039392*&#45;&gt;10761039392 -->\n<g id=\"edge1\" class=\"edge\">\n<title>10761039392*&#45;&gt;10761039392</title>\n<path fill=\"none\" stroke=\"black\" d=\"M806.27,-255C813.9,-255 822.51,-255 831.12,-255\"/>\n<polygon fill=\"black\" stroke=\"black\" points=\"830.83,-258.5 840.83,-255 830.83,-251.5 830.83,-258.5\"/>\n</g>\n<!-- 10761196064 -->\n<g id=\"node3\" class=\"node\">\n<title>10761196064</title>\n<polygon fill=\"none\" stroke=\"black\" points=\"1262,-184.5 1262,-253.5 1348,-253.5 1348,-184.5 1262,-184.5\"/>\n<text text-anchor=\"middle\" x=\"1305\" y=\"-238.3\" font-family=\"Times,serif\" font-size=\"14.00\"> </text>\n<polyline fill=\"none\" stroke=\"black\" points=\"1262,-230.5 1348,-230.5\"/>\n<text text-anchor=\"middle\" x=\"1305\" y=\"-215.3\" font-family=\"Times,serif\" font-size=\"14.00\">data 6.8284</text>\n<polyline fill=\"none\" stroke=\"black\" points=\"1262,-207.5 1348,-207.5\"/>\n<text text-anchor=\"middle\" x=\"1305\" y=\"-192.3\" font-family=\"Times,serif\" font-size=\"14.00\">grad &#45;0.1036</text>\n</g>\n<!-- 10761198944**&#45;1 -->\n<g id=\"node22\" class=\"node\">\n<title>10761198944**&#45;1</title>\n<ellipse fill=\"none\" stroke=\"black\" cx=\"1425\" cy=\"-219\" rx=\"27\" ry=\"18\"/>\n<text text-anchor=\"middle\" x=\"1425\" y=\"-215.3\" font-family=\"Times,serif\" font-size=\"14.00\">**&#45;1</text>\n</g>\n<!-- 10761196064&#45;&gt;10761198944**&#45;1 -->\n<g id=\"edge23\" class=\"edge\">\n<title>10761196064&#45;&gt;10761198944**&#45;1</title>\n<path fill=\"none\" stroke=\"black\" d=\"M1347.93,-219C1360.48,-219 1374.16,-219 1386.41,-219\"/>\n<polygon fill=\"black\" stroke=\"black\" points=\"1386.13,-222.5 1396.13,-219 1386.13,-215.5 1386.13,-222.5\"/>\n</g>\n<!-- 10761196064+ -->\n<g id=\"node4\" class=\"node\">\n<title>10761196064+</title>\n<ellipse fill=\"none\" stroke=\"black\" cx=\"1199\" cy=\"-219\" rx=\"27\" ry=\"18\"/>\n<text text-anchor=\"middle\" x=\"1199\" y=\"-215.3\" font-family=\"Times,serif\" font-size=\"14.00\">+</text>\n</g>\n<!-- 10761196064+&#45;&gt;10761196064 -->\n<g id=\"edge2\" class=\"edge\">\n<title>10761196064+&#45;&gt;10761196064</title>\n<path fill=\"none\" stroke=\"black\" d=\"M1226.24,-219C1233.86,-219 1242.46,-219 1251.09,-219\"/>\n<polygon fill=\"black\" stroke=\"black\" points=\"1250.87,-222.5 1260.87,-219 1250.87,-215.5 1250.87,-222.5\"/>\n</g>\n<!-- 10763049568 -->\n<g id=\"node5\" class=\"node\">\n<title>10763049568</title>\n<polygon fill=\"none\" stroke=\"black\" points=\"0.5,-88.5 0.5,-157.5 85.5,-157.5 85.5,-88.5 0.5,-88.5\"/>\n<text text-anchor=\"middle\" x=\"43\" y=\"-142.3\" font-family=\"Times,serif\" font-size=\"14.00\">w1</text>\n<polyline fill=\"none\" stroke=\"black\" points=\"0.5,-134.5 85.5,-134.5\"/>\n<text text-anchor=\"middle\" x=\"43\" y=\"-119.3\" font-family=\"Times,serif\" font-size=\"14.00\">data &#45;3.0000</text>\n<polyline fill=\"none\" stroke=\"black\" points=\"0.5,-111.5 85.5,-111.5\"/>\n<text text-anchor=\"middle\" x=\"43\" y=\"-96.3\" font-family=\"Times,serif\" font-size=\"14.00\">grad 1.0000</text>\n</g>\n<!-- 10763049376* -->\n<g id=\"node25\" class=\"node\">\n<title>10763049376*</title>\n<ellipse fill=\"none\" stroke=\"black\" cx=\"149\" cy=\"-123\" rx=\"27\" ry=\"18\"/>\n<text text-anchor=\"middle\" x=\"149\" y=\"-119.3\" font-family=\"Times,serif\" font-size=\"14.00\">*</text>\n</g>\n<!-- 10763049568&#45;&gt;10763049376* -->\n<g id=\"edge18\" class=\"edge\">\n<title>10763049568&#45;&gt;10763049376*</title>\n<path fill=\"none\" stroke=\"black\" d=\"M85.4,-123C93.62,-123 102.21,-123 110.3,-123\"/>\n<polygon fill=\"black\" stroke=\"black\" points=\"110.18,-126.5 120.18,-123 110.18,-119.5 110.18,-126.5\"/>\n</g>\n<!-- 10761199232 -->\n<g id=\"node6\" class=\"node\">\n<title>10761199232</title>\n<polygon fill=\"none\" stroke=\"black\" points=\"1384,-255.5 1384,-324.5 1466,-324.5 1466,-255.5 1384,-255.5\"/>\n<text text-anchor=\"middle\" x=\"1425\" y=\"-309.3\" font-family=\"Times,serif\" font-size=\"14.00\"> </text>\n<polyline fill=\"none\" stroke=\"black\" points=\"1384,-301.5 1466,-301.5\"/>\n<text text-anchor=\"middle\" x=\"1425\" y=\"-286.3\" font-family=\"Times,serif\" font-size=\"14.00\">data 4.8284</text>\n<polyline fill=\"none\" stroke=\"black\" points=\"1384,-278.5 1466,-278.5\"/>\n<text text-anchor=\"middle\" x=\"1425\" y=\"-263.3\" font-family=\"Times,serif\" font-size=\"14.00\">grad 0.1464</text>\n</g>\n<!-- 10763035072* -->\n<g id=\"node27\" class=\"node\">\n<title>10763035072*</title>\n<ellipse fill=\"none\" stroke=\"black\" cx=\"1647\" cy=\"-254\" rx=\"27\" ry=\"18\"/>\n<text text-anchor=\"middle\" x=\"1647\" y=\"-250.3\" font-family=\"Times,serif\" font-size=\"14.00\">*</text>\n</g>\n<!-- 10761199232&#45;&gt;10763035072* -->\n<g id=\"edge17\" class=\"edge\">\n<title>10761199232&#45;&gt;10763035072*</title>\n<path fill=\"none\" stroke=\"black\" d=\"M1465.72,-284.91C1497.74,-280.65 1543.88,-274.12 1584,-267 1592.41,-265.51 1601.43,-263.72 1609.91,-261.96\"/>\n<polygon fill=\"black\" stroke=\"black\" points=\"1610.49,-265.42 1619.55,-259.92 1609.04,-258.57 1610.49,-265.42\"/>\n</g>\n<!-- 10761199232+ -->\n<g id=\"node7\" class=\"node\">\n<title>10761199232+</title>\n<ellipse fill=\"none\" stroke=\"black\" cx=\"1199\" cy=\"-290\" rx=\"27\" ry=\"18\"/>\n<text text-anchor=\"middle\" x=\"1199\" y=\"-286.3\" font-family=\"Times,serif\" font-size=\"14.00\">+</text>\n</g>\n<!-- 10761199232+&#45;&gt;10761199232 -->\n<g id=\"edge3\" class=\"edge\">\n<title>10761199232+&#45;&gt;10761199232</title>\n<path fill=\"none\" stroke=\"black\" d=\"M1226.13,-290C1261.91,-290 1326.91,-290 1372.62,-290\"/>\n<polygon fill=\"black\" stroke=\"black\" points=\"1372.57,-293.5 1382.57,-290 1372.57,-286.5 1372.57,-293.5\"/>\n</g>\n<!-- 10763049616 -->\n<g id=\"node8\" class=\"node\">\n<title>10763049616</title>\n<polygon fill=\"none\" stroke=\"black\" points=\"424.5,-220.5 424.5,-289.5 506.5,-289.5 506.5,-220.5 424.5,-220.5\"/>\n<text text-anchor=\"middle\" x=\"465.5\" y=\"-274.3\" font-family=\"Times,serif\" font-size=\"14.00\">b</text>\n<polyline fill=\"none\" stroke=\"black\" points=\"424.5,-266.5 506.5,-266.5\"/>\n<text text-anchor=\"middle\" x=\"465.5\" y=\"-251.3\" font-family=\"Times,serif\" font-size=\"14.00\">data 6.8814</text>\n<polyline fill=\"none\" stroke=\"black\" points=\"424.5,-243.5 506.5,-243.5\"/>\n<text text-anchor=\"middle\" x=\"465.5\" y=\"-228.3\" font-family=\"Times,serif\" font-size=\"14.00\">grad 0.5000</text>\n</g>\n<!-- 10763034880+ -->\n<g id=\"node16\" class=\"node\">\n<title>10763034880+</title>\n<ellipse fill=\"none\" stroke=\"black\" cx=\"571\" cy=\"-211\" rx=\"27\" ry=\"18\"/>\n<text text-anchor=\"middle\" x=\"571\" y=\"-207.3\" font-family=\"Times,serif\" font-size=\"14.00\">+</text>\n</g>\n<!-- 10763049616&#45;&gt;10763034880+ -->\n<g id=\"edge13\" class=\"edge\">\n<title>10763049616&#45;&gt;10763034880+</title>\n<path fill=\"none\" stroke=\"black\" d=\"M506.22,-238.11C516.41,-233.78 527.26,-229.17 537.06,-225\"/>\n<polygon fill=\"black\" stroke=\"black\" points=\"538.37,-228.25 546.2,-221.12 535.63,-221.81 538.37,-228.25\"/>\n</g>\n<!-- 10763034784 -->\n<g id=\"node9\" class=\"node\">\n<title>10763034784</title>\n<polygon fill=\"none\" stroke=\"black\" points=\"423,-132.5 423,-201.5 508,-201.5 508,-132.5 423,-132.5\"/>\n<text text-anchor=\"middle\" x=\"465.5\" y=\"-186.3\" font-family=\"Times,serif\" font-size=\"14.00\">x1w1+x2w2</text>\n<polyline fill=\"none\" stroke=\"black\" points=\"423,-178.5 508,-178.5\"/>\n<text text-anchor=\"middle\" x=\"465.5\" y=\"-163.3\" font-family=\"Times,serif\" font-size=\"14.00\">data &#45;6.0000</text>\n<polyline fill=\"none\" stroke=\"black\" points=\"423,-155.5 508,-155.5\"/>\n<text text-anchor=\"middle\" x=\"465.5\" y=\"-140.3\" font-family=\"Times,serif\" font-size=\"14.00\">grad 0.5000</text>\n</g>\n<!-- 10763034784&#45;&gt;10763034880+ -->\n<g id=\"edge22\" class=\"edge\">\n<title>10763034784&#45;&gt;10763034880+</title>\n<path fill=\"none\" stroke=\"black\" d=\"M507.7,-184.52C517.51,-188.68 527.84,-193.08 537.21,-197.06\"/>\n<polygon fill=\"black\" stroke=\"black\" points=\"535.72,-200.23 546.29,-200.92 538.45,-193.79 535.72,-200.23\"/>\n</g>\n<!-- 10763034784+ -->\n<g id=\"node10\" class=\"node\">\n<title>10763034784+</title>\n<ellipse fill=\"none\" stroke=\"black\" cx=\"360\" cy=\"-167\" rx=\"27\" ry=\"18\"/>\n<text text-anchor=\"middle\" x=\"360\" y=\"-163.3\" font-family=\"Times,serif\" font-size=\"14.00\">+</text>\n</g>\n<!-- 10763034784+&#45;&gt;10763034784 -->\n<g id=\"edge4\" class=\"edge\">\n<title>10763034784+&#45;&gt;10763034784</title>\n<path fill=\"none\" stroke=\"black\" d=\"M387.39,-167C394.88,-167 403.32,-167 411.79,-167\"/>\n<polygon fill=\"black\" stroke=\"black\" points=\"411.76,-170.5 421.76,-167 411.76,-163.5 411.76,-170.5\"/>\n</g>\n<!-- 10761199280 -->\n<g id=\"node11\" class=\"node\">\n<title>10761199280</title>\n<polygon fill=\"none\" stroke=\"black\" points=\"1050.5,-308.5 1050.5,-377.5 1135.5,-377.5 1135.5,-308.5 1050.5,-308.5\"/>\n<text text-anchor=\"middle\" x=\"1093\" y=\"-362.3\" font-family=\"Times,serif\" font-size=\"14.00\"> </text>\n<polyline fill=\"none\" stroke=\"black\" points=\"1050.5,-354.5 1135.5,-354.5\"/>\n<text text-anchor=\"middle\" x=\"1093\" y=\"-339.3\" font-family=\"Times,serif\" font-size=\"14.00\">data &#45;1.0000</text>\n<polyline fill=\"none\" stroke=\"black\" points=\"1050.5,-331.5 1135.5,-331.5\"/>\n<text text-anchor=\"middle\" x=\"1093\" y=\"-316.3\" font-family=\"Times,serif\" font-size=\"14.00\">grad 0.1464</text>\n</g>\n<!-- 10761199280&#45;&gt;10761199232+ -->\n<g id=\"edge24\" class=\"edge\">\n<title>10761199280&#45;&gt;10761199232+</title>\n<path fill=\"none\" stroke=\"black\" d=\"M1135.4,-321.9C1145.8,-316.6 1156.79,-311 1166.61,-306\"/>\n<polygon fill=\"black\" stroke=\"black\" points=\"1168.06,-309.19 1175.38,-301.53 1164.88,-302.95 1168.06,-309.19\"/>\n</g>\n<!-- 10761039488 -->\n<g id=\"node12\" class=\"node\">\n<title>10761039488</title>\n<polygon fill=\"none\" stroke=\"black\" points=\"634,-264.5 634,-333.5 716,-333.5 716,-264.5 634,-264.5\"/>\n<text text-anchor=\"middle\" x=\"675\" y=\"-318.3\" font-family=\"Times,serif\" font-size=\"14.00\"> </text>\n<polyline fill=\"none\" stroke=\"black\" points=\"634,-310.5 716,-310.5\"/>\n<text text-anchor=\"middle\" x=\"675\" y=\"-295.3\" font-family=\"Times,serif\" font-size=\"14.00\">data 2.0000</text>\n<polyline fill=\"none\" stroke=\"black\" points=\"634,-287.5 716,-287.5\"/>\n<text text-anchor=\"middle\" x=\"675\" y=\"-272.3\" font-family=\"Times,serif\" font-size=\"14.00\">grad 0.2203</text>\n</g>\n<!-- 10761039488&#45;&gt;10761039392* -->\n<g id=\"edge16\" class=\"edge\">\n<title>10761039488&#45;&gt;10761039392*</title>\n<path fill=\"none\" stroke=\"black\" d=\"M715.73,-281.86C725.46,-277.67 735.76,-273.22 745.13,-269.18\"/>\n<polygon fill=\"black\" stroke=\"black\" points=\"746.42,-272.43 754.22,-265.26 743.65,-266.01 746.42,-272.43\"/>\n</g>\n<!-- 10763049184 -->\n<g id=\"node13\" class=\"node\">\n<title>10763049184</title>\n<polygon fill=\"none\" stroke=\"black\" points=\"213.5,-176.5 213.5,-245.5 295.5,-245.5 295.5,-176.5 213.5,-176.5\"/>\n<text text-anchor=\"middle\" x=\"254.5\" y=\"-230.3\" font-family=\"Times,serif\" font-size=\"14.00\">x2w2</text>\n<polyline fill=\"none\" stroke=\"black\" points=\"213.5,-222.5 295.5,-222.5\"/>\n<text text-anchor=\"middle\" x=\"254.5\" y=\"-207.3\" font-family=\"Times,serif\" font-size=\"14.00\">data 0.0000</text>\n<polyline fill=\"none\" stroke=\"black\" points=\"213.5,-199.5 295.5,-199.5\"/>\n<text text-anchor=\"middle\" x=\"254.5\" y=\"-184.3\" font-family=\"Times,serif\" font-size=\"14.00\">grad 0.5000</text>\n</g>\n<!-- 10763049184&#45;&gt;10763034784+ -->\n<g id=\"edge20\" class=\"edge\">\n<title>10763049184&#45;&gt;10763034784+</title>\n<path fill=\"none\" stroke=\"black\" d=\"M295.22,-194.11C305.41,-189.78 316.26,-185.17 326.06,-181\"/>\n<polygon fill=\"black\" stroke=\"black\" points=\"327.37,-184.25 335.2,-177.12 324.63,-177.81 327.37,-184.25\"/>\n</g>\n<!-- 10763049184* -->\n<g id=\"node14\" class=\"node\">\n<title>10763049184*</title>\n<ellipse fill=\"none\" stroke=\"black\" cx=\"149\" cy=\"-211\" rx=\"27\" ry=\"18\"/>\n<text text-anchor=\"middle\" x=\"149\" y=\"-207.3\" font-family=\"Times,serif\" font-size=\"14.00\">*</text>\n</g>\n<!-- 10763049184*&#45;&gt;10763049184 -->\n<g id=\"edge5\" class=\"edge\">\n<title>10763049184*&#45;&gt;10763049184</title>\n<path fill=\"none\" stroke=\"black\" d=\"M176.39,-211C184.39,-211 193.46,-211 202.51,-211\"/>\n<polygon fill=\"black\" stroke=\"black\" points=\"202.35,-214.5 212.35,-211 202.35,-207.5 202.35,-214.5\"/>\n</g>\n<!-- 10763034880 -->\n<g id=\"node15\" class=\"node\">\n<title>10763034880</title>\n<polygon fill=\"none\" stroke=\"black\" points=\"634,-176.5 634,-245.5 716,-245.5 716,-176.5 634,-176.5\"/>\n<text text-anchor=\"middle\" x=\"675\" y=\"-230.3\" font-family=\"Times,serif\" font-size=\"14.00\">n</text>\n<polyline fill=\"none\" stroke=\"black\" points=\"634,-222.5 716,-222.5\"/>\n<text text-anchor=\"middle\" x=\"675\" y=\"-207.3\" font-family=\"Times,serif\" font-size=\"14.00\">data 0.8814</text>\n<polyline fill=\"none\" stroke=\"black\" points=\"634,-199.5 716,-199.5\"/>\n<text text-anchor=\"middle\" x=\"675\" y=\"-184.3\" font-family=\"Times,serif\" font-size=\"14.00\">grad 0.5000</text>\n</g>\n<!-- 10763034880&#45;&gt;10761039392* -->\n<g id=\"edge12\" class=\"edge\">\n<title>10763034880&#45;&gt;10761039392*</title>\n<path fill=\"none\" stroke=\"black\" d=\"M715.73,-228.14C725.46,-232.33 735.76,-236.78 745.13,-240.82\"/>\n<polygon fill=\"black\" stroke=\"black\" points=\"743.65,-243.99 754.22,-244.74 746.42,-237.57 743.65,-243.99\"/>\n</g>\n<!-- 10763034880+&#45;&gt;10763034880 -->\n<g id=\"edge6\" class=\"edge\">\n<title>10763034880+&#45;&gt;10763034880</title>\n<path fill=\"none\" stroke=\"black\" d=\"M598.27,-211C605.9,-211 614.51,-211 623.12,-211\"/>\n<polygon fill=\"black\" stroke=\"black\" points=\"622.83,-214.5 632.83,-211 622.83,-207.5 622.83,-214.5\"/>\n</g>\n<!-- 10766970640 -->\n<g id=\"node17\" class=\"node\">\n<title>10766970640</title>\n<polygon fill=\"none\" stroke=\"black\" points=\"0,-0.5 0,-69.5 86,-69.5 86,-0.5 0,-0.5\"/>\n<text text-anchor=\"middle\" x=\"43\" y=\"-54.3\" font-family=\"Times,serif\" font-size=\"14.00\">x1</text>\n<polyline fill=\"none\" stroke=\"black\" points=\"0,-46.5 86,-46.5\"/>\n<text text-anchor=\"middle\" x=\"43\" y=\"-31.3\" font-family=\"Times,serif\" font-size=\"14.00\">data 2.0000</text>\n<polyline fill=\"none\" stroke=\"black\" points=\"0,-23.5 86,-23.5\"/>\n<text text-anchor=\"middle\" x=\"43\" y=\"-8.3\" font-family=\"Times,serif\" font-size=\"14.00\">grad &#45;1.5000</text>\n</g>\n<!-- 10766970640&#45;&gt;10763049376* -->\n<g id=\"edge28\" class=\"edge\">\n<title>10766970640&#45;&gt;10763049376*</title>\n<path fill=\"none\" stroke=\"black\" d=\"M84.51,-69.28C97.38,-80.17 111.24,-91.89 122.71,-101.6\"/>\n<polygon fill=\"black\" stroke=\"black\" points=\"120.29,-104.14 130.19,-107.93 124.81,-98.8 120.29,-104.14\"/>\n</g>\n<!-- 10761195824 -->\n<g id=\"node18\" class=\"node\">\n<title>10761195824</title>\n<polygon fill=\"none\" stroke=\"black\" points=\"1050,-132.5 1050,-201.5 1136,-201.5 1136,-132.5 1050,-132.5\"/>\n<text text-anchor=\"middle\" x=\"1093\" y=\"-186.3\" font-family=\"Times,serif\" font-size=\"14.00\"> </text>\n<polyline fill=\"none\" stroke=\"black\" points=\"1050,-178.5 1136,-178.5\"/>\n<text text-anchor=\"middle\" x=\"1093\" y=\"-163.3\" font-family=\"Times,serif\" font-size=\"14.00\">data 1.0000</text>\n<polyline fill=\"none\" stroke=\"black\" points=\"1050,-155.5 1136,-155.5\"/>\n<text text-anchor=\"middle\" x=\"1093\" y=\"-140.3\" font-family=\"Times,serif\" font-size=\"14.00\">grad &#45;0.1036</text>\n</g>\n<!-- 10761195824&#45;&gt;10761196064+ -->\n<g id=\"edge21\" class=\"edge\">\n<title>10761195824&#45;&gt;10761196064+</title>\n<path fill=\"none\" stroke=\"black\" d=\"M1135.7,-187.85C1146.08,-193.04 1157.02,-198.51 1166.79,-203.4\"/>\n<polygon fill=\"black\" stroke=\"black\" points=\"1164.99,-206.41 1175.5,-207.75 1168.12,-200.15 1164.99,-206.41\"/>\n</g>\n<!-- 10756218688 -->\n<g id=\"node19\" class=\"node\">\n<title>10756218688</title>\n<polygon fill=\"none\" stroke=\"black\" points=\"1052,-220.5 1052,-289.5 1134,-289.5 1134,-220.5 1052,-220.5\"/>\n<text text-anchor=\"middle\" x=\"1093\" y=\"-274.3\" font-family=\"Times,serif\" font-size=\"14.00\">e</text>\n<polyline fill=\"none\" stroke=\"black\" points=\"1052,-266.5 1134,-266.5\"/>\n<text text-anchor=\"middle\" x=\"1093\" y=\"-251.3\" font-family=\"Times,serif\" font-size=\"14.00\">data 5.8284</text>\n<polyline fill=\"none\" stroke=\"black\" points=\"1052,-243.5 1134,-243.5\"/>\n<text text-anchor=\"middle\" x=\"1093\" y=\"-228.3\" font-family=\"Times,serif\" font-size=\"14.00\">grad 0.0429</text>\n</g>\n<!-- 10756218688&#45;&gt;10761196064+ -->\n<g id=\"edge14\" class=\"edge\">\n<title>10756218688&#45;&gt;10761196064+</title>\n<path fill=\"none\" stroke=\"black\" d=\"M1133.91,-241.18C1143.79,-237.76 1154.29,-234.13 1163.87,-230.82\"/>\n<polygon fill=\"black\" stroke=\"black\" points=\"1164.86,-234.18 1173.17,-227.6 1162.57,-227.56 1164.86,-234.18\"/>\n</g>\n<!-- 10756218688&#45;&gt;10761199232+ -->\n<g id=\"edge19\" class=\"edge\">\n<title>10756218688&#45;&gt;10761199232+</title>\n<path fill=\"none\" stroke=\"black\" d=\"M1133.91,-268.43C1143.71,-271.73 1154.12,-275.23 1163.63,-278.43\"/>\n<polygon fill=\"black\" stroke=\"black\" points=\"1162.27,-281.67 1172.86,-281.54 1164.5,-275.03 1162.27,-281.67\"/>\n</g>\n<!-- 10756218688exp&#45;&gt;10756218688 -->\n<g id=\"edge7\" class=\"edge\">\n<title>10756218688exp&#45;&gt;10756218688</title>\n<path fill=\"none\" stroke=\"black\" d=\"M1014.24,-255C1022.46,-255 1031.82,-255 1041.13,-255\"/>\n<polygon fill=\"black\" stroke=\"black\" points=\"1040.87,-258.5 1050.87,-255 1040.87,-251.5 1040.87,-258.5\"/>\n</g>\n<!-- 10761198944 -->\n<g id=\"node21\" class=\"node\">\n<title>10761198944</title>\n<polygon fill=\"none\" stroke=\"black\" points=\"1502,-188.5 1502,-257.5 1584,-257.5 1584,-188.5 1502,-188.5\"/>\n<text text-anchor=\"middle\" x=\"1543\" y=\"-242.3\" font-family=\"Times,serif\" font-size=\"14.00\"> </text>\n<polyline fill=\"none\" stroke=\"black\" points=\"1502,-234.5 1584,-234.5\"/>\n<text text-anchor=\"middle\" x=\"1543\" y=\"-219.3\" font-family=\"Times,serif\" font-size=\"14.00\">data 0.1464</text>\n<polyline fill=\"none\" stroke=\"black\" points=\"1502,-211.5 1584,-211.5\"/>\n<text text-anchor=\"middle\" x=\"1543\" y=\"-196.3\" font-family=\"Times,serif\" font-size=\"14.00\">grad 4.8284</text>\n</g>\n<!-- 10761198944&#45;&gt;10763035072* -->\n<g id=\"edge25\" class=\"edge\">\n<title>10761198944&#45;&gt;10763035072*</title>\n<path fill=\"none\" stroke=\"black\" d=\"M1583.73,-235.07C1592.67,-237.79 1602.11,-240.66 1610.85,-243.32\"/>\n<polygon fill=\"black\" stroke=\"black\" points=\"1609.81,-246.66 1620.4,-246.22 1611.85,-239.96 1609.81,-246.66\"/>\n</g>\n<!-- 10761198944**&#45;1&#45;&gt;10761198944 -->\n<g id=\"edge8\" class=\"edge\">\n<title>10761198944**&#45;1&#45;&gt;10761198944</title>\n<path fill=\"none\" stroke=\"black\" d=\"M1452.32,-219.91C1463.7,-220.3 1477.42,-220.77 1490.66,-221.23\"/>\n<polygon fill=\"black\" stroke=\"black\" points=\"1490.49,-224.73 1500.6,-221.57 1490.73,-217.73 1490.49,-224.73\"/>\n</g>\n<!-- 10766969200 -->\n<g id=\"node23\" class=\"node\">\n<title>10766969200</title>\n<polygon fill=\"none\" stroke=\"black\" points=\"2,-264.5 2,-333.5 84,-333.5 84,-264.5 2,-264.5\"/>\n<text text-anchor=\"middle\" x=\"43\" y=\"-318.3\" font-family=\"Times,serif\" font-size=\"14.00\">x2</text>\n<polyline fill=\"none\" stroke=\"black\" points=\"2,-310.5 84,-310.5\"/>\n<text text-anchor=\"middle\" x=\"43\" y=\"-295.3\" font-family=\"Times,serif\" font-size=\"14.00\">data 0.0000</text>\n<polyline fill=\"none\" stroke=\"black\" points=\"2,-287.5 84,-287.5\"/>\n<text text-anchor=\"middle\" x=\"43\" y=\"-272.3\" font-family=\"Times,serif\" font-size=\"14.00\">grad 0.5000</text>\n</g>\n<!-- 10766969200&#45;&gt;10763049184* -->\n<g id=\"edge11\" class=\"edge\">\n<title>10766969200&#45;&gt;10763049184*</title>\n<path fill=\"none\" stroke=\"black\" d=\"M83.91,-265.23C96.93,-254.21 111.02,-242.29 122.66,-232.44\"/>\n<polygon fill=\"black\" stroke=\"black\" points=\"124.88,-235.15 130.25,-226.02 120.36,-229.81 124.88,-235.15\"/>\n</g>\n<!-- 10763049376 -->\n<g id=\"node24\" class=\"node\">\n<title>10763049376</title>\n<polygon fill=\"none\" stroke=\"black\" points=\"212,-88.5 212,-157.5 297,-157.5 297,-88.5 212,-88.5\"/>\n<text text-anchor=\"middle\" x=\"254.5\" y=\"-142.3\" font-family=\"Times,serif\" font-size=\"14.00\">x1w1</text>\n<polyline fill=\"none\" stroke=\"black\" points=\"212,-134.5 297,-134.5\"/>\n<text text-anchor=\"middle\" x=\"254.5\" y=\"-119.3\" font-family=\"Times,serif\" font-size=\"14.00\">data &#45;6.0000</text>\n<polyline fill=\"none\" stroke=\"black\" points=\"212,-111.5 297,-111.5\"/>\n<text text-anchor=\"middle\" x=\"254.5\" y=\"-96.3\" font-family=\"Times,serif\" font-size=\"14.00\">grad 0.5000</text>\n</g>\n<!-- 10763049376&#45;&gt;10763034784+ -->\n<g id=\"edge15\" class=\"edge\">\n<title>10763049376&#45;&gt;10763034784+</title>\n<path fill=\"none\" stroke=\"black\" d=\"M296.7,-140.52C306.51,-144.68 316.84,-149.08 326.21,-153.06\"/>\n<polygon fill=\"black\" stroke=\"black\" points=\"324.72,-156.23 335.29,-156.92 327.45,-149.79 324.72,-156.23\"/>\n</g>\n<!-- 10763049376*&#45;&gt;10763049376 -->\n<g id=\"edge9\" class=\"edge\">\n<title>10763049376*&#45;&gt;10763049376</title>\n<path fill=\"none\" stroke=\"black\" d=\"M176.39,-123C183.88,-123 192.32,-123 200.79,-123\"/>\n<polygon fill=\"black\" stroke=\"black\" points=\"200.76,-126.5 210.76,-123 200.76,-119.5 200.76,-126.5\"/>\n</g>\n<!-- 10763035072 -->\n<g id=\"node26\" class=\"node\">\n<title>10763035072</title>\n<polygon fill=\"none\" stroke=\"black\" points=\"1710,-219.5 1710,-288.5 1792,-288.5 1792,-219.5 1710,-219.5\"/>\n<text text-anchor=\"middle\" x=\"1751\" y=\"-273.3\" font-family=\"Times,serif\" font-size=\"14.00\">o</text>\n<polyline fill=\"none\" stroke=\"black\" points=\"1710,-265.5 1792,-265.5\"/>\n<text text-anchor=\"middle\" x=\"1751\" y=\"-250.3\" font-family=\"Times,serif\" font-size=\"14.00\">data 0.7071</text>\n<polyline fill=\"none\" stroke=\"black\" points=\"1710,-242.5 1792,-242.5\"/>\n<text text-anchor=\"middle\" x=\"1751\" y=\"-227.3\" font-family=\"Times,serif\" font-size=\"14.00\">grad 1.0000</text>\n</g>\n<!-- 10763035072*&#45;&gt;10763035072 -->\n<g id=\"edge10\" class=\"edge\">\n<title>10763035072*&#45;&gt;10763035072</title>\n<path fill=\"none\" stroke=\"black\" d=\"M1674.27,-254C1681.9,-254 1690.51,-254 1699.12,-254\"/>\n<polygon fill=\"black\" stroke=\"black\" points=\"1698.83,-257.5 1708.83,-254 1698.83,-250.5 1698.83,-257.5\"/>\n</g>\n<!-- 10766969296 -->\n<g id=\"node28\" class=\"node\">\n<title>10766969296</title>\n<polygon fill=\"none\" stroke=\"black\" points=\"2,-176.5 2,-245.5 84,-245.5 84,-176.5 2,-176.5\"/>\n<text text-anchor=\"middle\" x=\"43\" y=\"-230.3\" font-family=\"Times,serif\" font-size=\"14.00\">w2</text>\n<polyline fill=\"none\" stroke=\"black\" points=\"2,-222.5 84,-222.5\"/>\n<text text-anchor=\"middle\" x=\"43\" y=\"-207.3\" font-family=\"Times,serif\" font-size=\"14.00\">data 1.0000</text>\n<polyline fill=\"none\" stroke=\"black\" points=\"2,-199.5 84,-199.5\"/>\n<text text-anchor=\"middle\" x=\"43\" y=\"-184.3\" font-family=\"Times,serif\" font-size=\"14.00\">grad 0.0000</text>\n</g>\n<!-- 10766969296&#45;&gt;10763049184* -->\n<g id=\"edge27\" class=\"edge\">\n<title>10766969296&#45;&gt;10763049184*</title>\n<path fill=\"none\" stroke=\"black\" d=\"M83.91,-211C92.58,-211 101.71,-211 110.29,-211\"/>\n<polygon fill=\"black\" stroke=\"black\" points=\"110.02,-214.5 120.02,-211 110.02,-207.5 110.02,-214.5\"/>\n</g>\n</g>\n</svg>\n",
      "text/plain": [
       "<graphviz.graphs.Digraph at 0x281871100>"
      ]
     },
     "execution_count": 454,
     "metadata": {},
     "output_type": "execute_result"
    }
   ],
   "source": [
    "o.grad = 1.0\n",
    "\n",
    "draw_dot(o)"
   ]
  },
  {
   "cell_type": "code",
   "execution_count": 455,
   "metadata": {},
   "outputs": [],
   "source": [
    "# topo = []\n",
    "# visited = set()\n",
    "# def build_topo(v):\n",
    "#     if v not in visited:\n",
    "#         visited.add(v)\n",
    "#         for child in v._prev:\n",
    "#             build_topo(child)\n",
    "#         topo.append(v)\n",
    "# build_topo(o)\n",
    "\n",
    "# for node in reversed(topo):\n",
    "#     node._backward()\n",
    "o.backward()"
   ]
  },
  {
   "cell_type": "code",
   "execution_count": 456,
   "metadata": {},
   "outputs": [
    {
     "data": {
      "image/svg+xml": "<?xml version=\"1.0\" encoding=\"UTF-8\" standalone=\"no\"?>\n<!DOCTYPE svg PUBLIC \"-//W3C//DTD SVG 1.1//EN\"\n \"http://www.w3.org/Graphics/SVG/1.1/DTD/svg11.dtd\">\n<!-- Generated by graphviz version 7.1.0 (20230121.1956)\n -->\n<!-- Pages: 1 -->\n<svg width=\"1800pt\" height=\"386pt\"\n viewBox=\"0.00 0.00 1800.00 386.00\" xmlns=\"http://www.w3.org/2000/svg\" xmlns:xlink=\"http://www.w3.org/1999/xlink\">\n<g id=\"graph0\" class=\"graph\" transform=\"scale(1 1) rotate(0) translate(4 382)\">\n<polygon fill=\"white\" stroke=\"none\" points=\"-4,4 -4,-382 1796,-382 1796,4 -4,4\"/>\n<!-- 10761039392 -->\n<g id=\"node1\" class=\"node\">\n<title>10761039392</title>\n<polygon fill=\"none\" stroke=\"black\" points=\"842,-220.5 842,-289.5 924,-289.5 924,-220.5 842,-220.5\"/>\n<text text-anchor=\"middle\" x=\"883\" y=\"-274.3\" font-family=\"Times,serif\" font-size=\"14.00\"> </text>\n<polyline fill=\"none\" stroke=\"black\" points=\"842,-266.5 924,-266.5\"/>\n<text text-anchor=\"middle\" x=\"883\" y=\"-251.3\" font-family=\"Times,serif\" font-size=\"14.00\">data 1.7627</text>\n<polyline fill=\"none\" stroke=\"black\" points=\"842,-243.5 924,-243.5\"/>\n<text text-anchor=\"middle\" x=\"883\" y=\"-228.3\" font-family=\"Times,serif\" font-size=\"14.00\">grad 0.3964</text>\n</g>\n<!-- 10756218688exp -->\n<g id=\"node20\" class=\"node\">\n<title>10756218688exp</title>\n<ellipse fill=\"none\" stroke=\"black\" cx=\"987\" cy=\"-255\" rx=\"27\" ry=\"18\"/>\n<text text-anchor=\"middle\" x=\"987\" y=\"-251.3\" font-family=\"Times,serif\" font-size=\"14.00\">exp</text>\n</g>\n<!-- 10761039392&#45;&gt;10756218688exp -->\n<g id=\"edge26\" class=\"edge\">\n<title>10761039392&#45;&gt;10756218688exp</title>\n<path fill=\"none\" stroke=\"black\" d=\"M923.73,-255C931.85,-255 940.36,-255 948.41,-255\"/>\n<polygon fill=\"black\" stroke=\"black\" points=\"948.23,-258.5 958.23,-255 948.23,-251.5 948.23,-258.5\"/>\n</g>\n<!-- 10761039392* -->\n<g id=\"node2\" class=\"node\">\n<title>10761039392*</title>\n<ellipse fill=\"none\" stroke=\"black\" cx=\"779\" cy=\"-255\" rx=\"27\" ry=\"18\"/>\n<text text-anchor=\"middle\" x=\"779\" y=\"-251.3\" font-family=\"Times,serif\" font-size=\"14.00\">*</text>\n</g>\n<!-- 10761039392*&#45;&gt;10761039392 -->\n<g id=\"edge1\" class=\"edge\">\n<title>10761039392*&#45;&gt;10761039392</title>\n<path fill=\"none\" stroke=\"black\" d=\"M806.27,-255C813.9,-255 822.51,-255 831.12,-255\"/>\n<polygon fill=\"black\" stroke=\"black\" points=\"830.83,-258.5 840.83,-255 830.83,-251.5 830.83,-258.5\"/>\n</g>\n<!-- 10761196064 -->\n<g id=\"node3\" class=\"node\">\n<title>10761196064</title>\n<polygon fill=\"none\" stroke=\"black\" points=\"1262,-184.5 1262,-253.5 1348,-253.5 1348,-184.5 1262,-184.5\"/>\n<text text-anchor=\"middle\" x=\"1305\" y=\"-238.3\" font-family=\"Times,serif\" font-size=\"14.00\"> </text>\n<polyline fill=\"none\" stroke=\"black\" points=\"1262,-230.5 1348,-230.5\"/>\n<text text-anchor=\"middle\" x=\"1305\" y=\"-215.3\" font-family=\"Times,serif\" font-size=\"14.00\">data 6.8284</text>\n<polyline fill=\"none\" stroke=\"black\" points=\"1262,-207.5 1348,-207.5\"/>\n<text text-anchor=\"middle\" x=\"1305\" y=\"-192.3\" font-family=\"Times,serif\" font-size=\"14.00\">grad &#45;0.3107</text>\n</g>\n<!-- 10761198944**&#45;1 -->\n<g id=\"node22\" class=\"node\">\n<title>10761198944**&#45;1</title>\n<ellipse fill=\"none\" stroke=\"black\" cx=\"1425\" cy=\"-219\" rx=\"27\" ry=\"18\"/>\n<text text-anchor=\"middle\" x=\"1425\" y=\"-215.3\" font-family=\"Times,serif\" font-size=\"14.00\">**&#45;1</text>\n</g>\n<!-- 10761196064&#45;&gt;10761198944**&#45;1 -->\n<g id=\"edge23\" class=\"edge\">\n<title>10761196064&#45;&gt;10761198944**&#45;1</title>\n<path fill=\"none\" stroke=\"black\" d=\"M1347.93,-219C1360.48,-219 1374.16,-219 1386.41,-219\"/>\n<polygon fill=\"black\" stroke=\"black\" points=\"1386.13,-222.5 1396.13,-219 1386.13,-215.5 1386.13,-222.5\"/>\n</g>\n<!-- 10761196064+ -->\n<g id=\"node4\" class=\"node\">\n<title>10761196064+</title>\n<ellipse fill=\"none\" stroke=\"black\" cx=\"1199\" cy=\"-219\" rx=\"27\" ry=\"18\"/>\n<text text-anchor=\"middle\" x=\"1199\" y=\"-215.3\" font-family=\"Times,serif\" font-size=\"14.00\">+</text>\n</g>\n<!-- 10761196064+&#45;&gt;10761196064 -->\n<g id=\"edge2\" class=\"edge\">\n<title>10761196064+&#45;&gt;10761196064</title>\n<path fill=\"none\" stroke=\"black\" d=\"M1226.24,-219C1233.86,-219 1242.46,-219 1251.09,-219\"/>\n<polygon fill=\"black\" stroke=\"black\" points=\"1250.87,-222.5 1260.87,-219 1250.87,-215.5 1250.87,-222.5\"/>\n</g>\n<!-- 10763049568 -->\n<g id=\"node5\" class=\"node\">\n<title>10763049568</title>\n<polygon fill=\"none\" stroke=\"black\" points=\"0.5,-88.5 0.5,-157.5 85.5,-157.5 85.5,-88.5 0.5,-88.5\"/>\n<text text-anchor=\"middle\" x=\"43\" y=\"-142.3\" font-family=\"Times,serif\" font-size=\"14.00\">w1</text>\n<polyline fill=\"none\" stroke=\"black\" points=\"0.5,-134.5 85.5,-134.5\"/>\n<text text-anchor=\"middle\" x=\"43\" y=\"-119.3\" font-family=\"Times,serif\" font-size=\"14.00\">data &#45;3.0000</text>\n<polyline fill=\"none\" stroke=\"black\" points=\"0.5,-111.5 85.5,-111.5\"/>\n<text text-anchor=\"middle\" x=\"43\" y=\"-96.3\" font-family=\"Times,serif\" font-size=\"14.00\">grad 5.5858</text>\n</g>\n<!-- 10763049376* -->\n<g id=\"node25\" class=\"node\">\n<title>10763049376*</title>\n<ellipse fill=\"none\" stroke=\"black\" cx=\"149\" cy=\"-123\" rx=\"27\" ry=\"18\"/>\n<text text-anchor=\"middle\" x=\"149\" y=\"-119.3\" font-family=\"Times,serif\" font-size=\"14.00\">*</text>\n</g>\n<!-- 10763049568&#45;&gt;10763049376* -->\n<g id=\"edge18\" class=\"edge\">\n<title>10763049568&#45;&gt;10763049376*</title>\n<path fill=\"none\" stroke=\"black\" d=\"M85.4,-123C93.62,-123 102.21,-123 110.3,-123\"/>\n<polygon fill=\"black\" stroke=\"black\" points=\"110.18,-126.5 120.18,-123 110.18,-119.5 110.18,-126.5\"/>\n</g>\n<!-- 10761199232 -->\n<g id=\"node6\" class=\"node\">\n<title>10761199232</title>\n<polygon fill=\"none\" stroke=\"black\" points=\"1384,-255.5 1384,-324.5 1466,-324.5 1466,-255.5 1384,-255.5\"/>\n<text text-anchor=\"middle\" x=\"1425\" y=\"-309.3\" font-family=\"Times,serif\" font-size=\"14.00\"> </text>\n<polyline fill=\"none\" stroke=\"black\" points=\"1384,-301.5 1466,-301.5\"/>\n<text text-anchor=\"middle\" x=\"1425\" y=\"-286.3\" font-family=\"Times,serif\" font-size=\"14.00\">data 4.8284</text>\n<polyline fill=\"none\" stroke=\"black\" points=\"1384,-278.5 1466,-278.5\"/>\n<text text-anchor=\"middle\" x=\"1425\" y=\"-263.3\" font-family=\"Times,serif\" font-size=\"14.00\">grad 0.2929</text>\n</g>\n<!-- 10763035072* -->\n<g id=\"node27\" class=\"node\">\n<title>10763035072*</title>\n<ellipse fill=\"none\" stroke=\"black\" cx=\"1647\" cy=\"-254\" rx=\"27\" ry=\"18\"/>\n<text text-anchor=\"middle\" x=\"1647\" y=\"-250.3\" font-family=\"Times,serif\" font-size=\"14.00\">*</text>\n</g>\n<!-- 10761199232&#45;&gt;10763035072* -->\n<g id=\"edge17\" class=\"edge\">\n<title>10761199232&#45;&gt;10763035072*</title>\n<path fill=\"none\" stroke=\"black\" d=\"M1465.72,-284.91C1497.74,-280.65 1543.88,-274.12 1584,-267 1592.41,-265.51 1601.43,-263.72 1609.91,-261.96\"/>\n<polygon fill=\"black\" stroke=\"black\" points=\"1610.49,-265.42 1619.55,-259.92 1609.04,-258.57 1610.49,-265.42\"/>\n</g>\n<!-- 10761199232+ -->\n<g id=\"node7\" class=\"node\">\n<title>10761199232+</title>\n<ellipse fill=\"none\" stroke=\"black\" cx=\"1199\" cy=\"-290\" rx=\"27\" ry=\"18\"/>\n<text text-anchor=\"middle\" x=\"1199\" y=\"-286.3\" font-family=\"Times,serif\" font-size=\"14.00\">+</text>\n</g>\n<!-- 10761199232+&#45;&gt;10761199232 -->\n<g id=\"edge3\" class=\"edge\">\n<title>10761199232+&#45;&gt;10761199232</title>\n<path fill=\"none\" stroke=\"black\" d=\"M1226.13,-290C1261.91,-290 1326.91,-290 1372.62,-290\"/>\n<polygon fill=\"black\" stroke=\"black\" points=\"1372.57,-293.5 1382.57,-290 1372.57,-286.5 1372.57,-293.5\"/>\n</g>\n<!-- 10763049616 -->\n<g id=\"node8\" class=\"node\">\n<title>10763049616</title>\n<polygon fill=\"none\" stroke=\"black\" points=\"424.5,-220.5 424.5,-289.5 506.5,-289.5 506.5,-220.5 424.5,-220.5\"/>\n<text text-anchor=\"middle\" x=\"465.5\" y=\"-274.3\" font-family=\"Times,serif\" font-size=\"14.00\">b</text>\n<polyline fill=\"none\" stroke=\"black\" points=\"424.5,-266.5 506.5,-266.5\"/>\n<text text-anchor=\"middle\" x=\"465.5\" y=\"-251.3\" font-family=\"Times,serif\" font-size=\"14.00\">data 6.8814</text>\n<polyline fill=\"none\" stroke=\"black\" points=\"424.5,-243.5 506.5,-243.5\"/>\n<text text-anchor=\"middle\" x=\"465.5\" y=\"-228.3\" font-family=\"Times,serif\" font-size=\"14.00\">grad 1.7929</text>\n</g>\n<!-- 10763034880+ -->\n<g id=\"node16\" class=\"node\">\n<title>10763034880+</title>\n<ellipse fill=\"none\" stroke=\"black\" cx=\"571\" cy=\"-211\" rx=\"27\" ry=\"18\"/>\n<text text-anchor=\"middle\" x=\"571\" y=\"-207.3\" font-family=\"Times,serif\" font-size=\"14.00\">+</text>\n</g>\n<!-- 10763049616&#45;&gt;10763034880+ -->\n<g id=\"edge13\" class=\"edge\">\n<title>10763049616&#45;&gt;10763034880+</title>\n<path fill=\"none\" stroke=\"black\" d=\"M506.22,-238.11C516.41,-233.78 527.26,-229.17 537.06,-225\"/>\n<polygon fill=\"black\" stroke=\"black\" points=\"538.37,-228.25 546.2,-221.12 535.63,-221.81 538.37,-228.25\"/>\n</g>\n<!-- 10763034784 -->\n<g id=\"node9\" class=\"node\">\n<title>10763034784</title>\n<polygon fill=\"none\" stroke=\"black\" points=\"423,-132.5 423,-201.5 508,-201.5 508,-132.5 423,-132.5\"/>\n<text text-anchor=\"middle\" x=\"465.5\" y=\"-186.3\" font-family=\"Times,serif\" font-size=\"14.00\">x1w1+x2w2</text>\n<polyline fill=\"none\" stroke=\"black\" points=\"423,-178.5 508,-178.5\"/>\n<text text-anchor=\"middle\" x=\"465.5\" y=\"-163.3\" font-family=\"Times,serif\" font-size=\"14.00\">data &#45;6.0000</text>\n<polyline fill=\"none\" stroke=\"black\" points=\"423,-155.5 508,-155.5\"/>\n<text text-anchor=\"middle\" x=\"465.5\" y=\"-140.3\" font-family=\"Times,serif\" font-size=\"14.00\">grad 1.7929</text>\n</g>\n<!-- 10763034784&#45;&gt;10763034880+ -->\n<g id=\"edge22\" class=\"edge\">\n<title>10763034784&#45;&gt;10763034880+</title>\n<path fill=\"none\" stroke=\"black\" d=\"M507.7,-184.52C517.51,-188.68 527.84,-193.08 537.21,-197.06\"/>\n<polygon fill=\"black\" stroke=\"black\" points=\"535.72,-200.23 546.29,-200.92 538.45,-193.79 535.72,-200.23\"/>\n</g>\n<!-- 10763034784+ -->\n<g id=\"node10\" class=\"node\">\n<title>10763034784+</title>\n<ellipse fill=\"none\" stroke=\"black\" cx=\"360\" cy=\"-167\" rx=\"27\" ry=\"18\"/>\n<text text-anchor=\"middle\" x=\"360\" y=\"-163.3\" font-family=\"Times,serif\" font-size=\"14.00\">+</text>\n</g>\n<!-- 10763034784+&#45;&gt;10763034784 -->\n<g id=\"edge4\" class=\"edge\">\n<title>10763034784+&#45;&gt;10763034784</title>\n<path fill=\"none\" stroke=\"black\" d=\"M387.39,-167C394.88,-167 403.32,-167 411.79,-167\"/>\n<polygon fill=\"black\" stroke=\"black\" points=\"411.76,-170.5 421.76,-167 411.76,-163.5 411.76,-170.5\"/>\n</g>\n<!-- 10761199280 -->\n<g id=\"node11\" class=\"node\">\n<title>10761199280</title>\n<polygon fill=\"none\" stroke=\"black\" points=\"1050.5,-308.5 1050.5,-377.5 1135.5,-377.5 1135.5,-308.5 1050.5,-308.5\"/>\n<text text-anchor=\"middle\" x=\"1093\" y=\"-362.3\" font-family=\"Times,serif\" font-size=\"14.00\"> </text>\n<polyline fill=\"none\" stroke=\"black\" points=\"1050.5,-354.5 1135.5,-354.5\"/>\n<text text-anchor=\"middle\" x=\"1093\" y=\"-339.3\" font-family=\"Times,serif\" font-size=\"14.00\">data &#45;1.0000</text>\n<polyline fill=\"none\" stroke=\"black\" points=\"1050.5,-331.5 1135.5,-331.5\"/>\n<text text-anchor=\"middle\" x=\"1093\" y=\"-316.3\" font-family=\"Times,serif\" font-size=\"14.00\">grad 0.4393</text>\n</g>\n<!-- 10761199280&#45;&gt;10761199232+ -->\n<g id=\"edge24\" class=\"edge\">\n<title>10761199280&#45;&gt;10761199232+</title>\n<path fill=\"none\" stroke=\"black\" d=\"M1135.4,-321.9C1145.8,-316.6 1156.79,-311 1166.61,-306\"/>\n<polygon fill=\"black\" stroke=\"black\" points=\"1168.06,-309.19 1175.38,-301.53 1164.88,-302.95 1168.06,-309.19\"/>\n</g>\n<!-- 10761039488 -->\n<g id=\"node12\" class=\"node\">\n<title>10761039488</title>\n<polygon fill=\"none\" stroke=\"black\" points=\"634,-264.5 634,-333.5 716,-333.5 716,-264.5 634,-264.5\"/>\n<text text-anchor=\"middle\" x=\"675\" y=\"-318.3\" font-family=\"Times,serif\" font-size=\"14.00\"> </text>\n<polyline fill=\"none\" stroke=\"black\" points=\"634,-310.5 716,-310.5\"/>\n<text text-anchor=\"middle\" x=\"675\" y=\"-295.3\" font-family=\"Times,serif\" font-size=\"14.00\">data 2.0000</text>\n<polyline fill=\"none\" stroke=\"black\" points=\"634,-287.5 716,-287.5\"/>\n<text text-anchor=\"middle\" x=\"675\" y=\"-272.3\" font-family=\"Times,serif\" font-size=\"14.00\">grad 0.5698</text>\n</g>\n<!-- 10761039488&#45;&gt;10761039392* -->\n<g id=\"edge16\" class=\"edge\">\n<title>10761039488&#45;&gt;10761039392*</title>\n<path fill=\"none\" stroke=\"black\" d=\"M715.73,-281.86C725.46,-277.67 735.76,-273.22 745.13,-269.18\"/>\n<polygon fill=\"black\" stroke=\"black\" points=\"746.42,-272.43 754.22,-265.26 743.65,-266.01 746.42,-272.43\"/>\n</g>\n<!-- 10763049184 -->\n<g id=\"node13\" class=\"node\">\n<title>10763049184</title>\n<polygon fill=\"none\" stroke=\"black\" points=\"213.5,-176.5 213.5,-245.5 295.5,-245.5 295.5,-176.5 213.5,-176.5\"/>\n<text text-anchor=\"middle\" x=\"254.5\" y=\"-230.3\" font-family=\"Times,serif\" font-size=\"14.00\">x2w2</text>\n<polyline fill=\"none\" stroke=\"black\" points=\"213.5,-222.5 295.5,-222.5\"/>\n<text text-anchor=\"middle\" x=\"254.5\" y=\"-207.3\" font-family=\"Times,serif\" font-size=\"14.00\">data 0.0000</text>\n<polyline fill=\"none\" stroke=\"black\" points=\"213.5,-199.5 295.5,-199.5\"/>\n<text text-anchor=\"middle\" x=\"254.5\" y=\"-184.3\" font-family=\"Times,serif\" font-size=\"14.00\">grad 2.2929</text>\n</g>\n<!-- 10763049184&#45;&gt;10763034784+ -->\n<g id=\"edge20\" class=\"edge\">\n<title>10763049184&#45;&gt;10763034784+</title>\n<path fill=\"none\" stroke=\"black\" d=\"M295.22,-194.11C305.41,-189.78 316.26,-185.17 326.06,-181\"/>\n<polygon fill=\"black\" stroke=\"black\" points=\"327.37,-184.25 335.2,-177.12 324.63,-177.81 327.37,-184.25\"/>\n</g>\n<!-- 10763049184* -->\n<g id=\"node14\" class=\"node\">\n<title>10763049184*</title>\n<ellipse fill=\"none\" stroke=\"black\" cx=\"149\" cy=\"-211\" rx=\"27\" ry=\"18\"/>\n<text text-anchor=\"middle\" x=\"149\" y=\"-207.3\" font-family=\"Times,serif\" font-size=\"14.00\">*</text>\n</g>\n<!-- 10763049184*&#45;&gt;10763049184 -->\n<g id=\"edge5\" class=\"edge\">\n<title>10763049184*&#45;&gt;10763049184</title>\n<path fill=\"none\" stroke=\"black\" d=\"M176.39,-211C184.39,-211 193.46,-211 202.51,-211\"/>\n<polygon fill=\"black\" stroke=\"black\" points=\"202.35,-214.5 212.35,-211 202.35,-207.5 202.35,-214.5\"/>\n</g>\n<!-- 10763034880 -->\n<g id=\"node15\" class=\"node\">\n<title>10763034880</title>\n<polygon fill=\"none\" stroke=\"black\" points=\"634,-176.5 634,-245.5 716,-245.5 716,-176.5 634,-176.5\"/>\n<text text-anchor=\"middle\" x=\"675\" y=\"-230.3\" font-family=\"Times,serif\" font-size=\"14.00\">n</text>\n<polyline fill=\"none\" stroke=\"black\" points=\"634,-222.5 716,-222.5\"/>\n<text text-anchor=\"middle\" x=\"675\" y=\"-207.3\" font-family=\"Times,serif\" font-size=\"14.00\">data 0.8814</text>\n<polyline fill=\"none\" stroke=\"black\" points=\"634,-199.5 716,-199.5\"/>\n<text text-anchor=\"middle\" x=\"675\" y=\"-184.3\" font-family=\"Times,serif\" font-size=\"14.00\">grad 1.2929</text>\n</g>\n<!-- 10763034880&#45;&gt;10761039392* -->\n<g id=\"edge12\" class=\"edge\">\n<title>10763034880&#45;&gt;10761039392*</title>\n<path fill=\"none\" stroke=\"black\" d=\"M715.73,-228.14C725.46,-232.33 735.76,-236.78 745.13,-240.82\"/>\n<polygon fill=\"black\" stroke=\"black\" points=\"743.65,-243.99 754.22,-244.74 746.42,-237.57 743.65,-243.99\"/>\n</g>\n<!-- 10763034880+&#45;&gt;10763034880 -->\n<g id=\"edge6\" class=\"edge\">\n<title>10763034880+&#45;&gt;10763034880</title>\n<path fill=\"none\" stroke=\"black\" d=\"M598.27,-211C605.9,-211 614.51,-211 623.12,-211\"/>\n<polygon fill=\"black\" stroke=\"black\" points=\"622.83,-214.5 632.83,-211 622.83,-207.5 622.83,-214.5\"/>\n</g>\n<!-- 10766970640 -->\n<g id=\"node17\" class=\"node\">\n<title>10766970640</title>\n<polygon fill=\"none\" stroke=\"black\" points=\"0,-0.5 0,-69.5 86,-69.5 86,-0.5 0,-0.5\"/>\n<text text-anchor=\"middle\" x=\"43\" y=\"-54.3\" font-family=\"Times,serif\" font-size=\"14.00\">x1</text>\n<polyline fill=\"none\" stroke=\"black\" points=\"0,-46.5 86,-46.5\"/>\n<text text-anchor=\"middle\" x=\"43\" y=\"-31.3\" font-family=\"Times,serif\" font-size=\"14.00\">data 2.0000</text>\n<polyline fill=\"none\" stroke=\"black\" points=\"0,-23.5 86,-23.5\"/>\n<text text-anchor=\"middle\" x=\"43\" y=\"-8.3\" font-family=\"Times,serif\" font-size=\"14.00\">grad &#45;8.3787</text>\n</g>\n<!-- 10766970640&#45;&gt;10763049376* -->\n<g id=\"edge28\" class=\"edge\">\n<title>10766970640&#45;&gt;10763049376*</title>\n<path fill=\"none\" stroke=\"black\" d=\"M84.51,-69.28C97.38,-80.17 111.24,-91.89 122.71,-101.6\"/>\n<polygon fill=\"black\" stroke=\"black\" points=\"120.29,-104.14 130.19,-107.93 124.81,-98.8 120.29,-104.14\"/>\n</g>\n<!-- 10761195824 -->\n<g id=\"node18\" class=\"node\">\n<title>10761195824</title>\n<polygon fill=\"none\" stroke=\"black\" points=\"1050,-132.5 1050,-201.5 1136,-201.5 1136,-132.5 1050,-132.5\"/>\n<text text-anchor=\"middle\" x=\"1093\" y=\"-186.3\" font-family=\"Times,serif\" font-size=\"14.00\"> </text>\n<polyline fill=\"none\" stroke=\"black\" points=\"1050,-178.5 1136,-178.5\"/>\n<text text-anchor=\"middle\" x=\"1093\" y=\"-163.3\" font-family=\"Times,serif\" font-size=\"14.00\">data 1.0000</text>\n<polyline fill=\"none\" stroke=\"black\" points=\"1050,-155.5 1136,-155.5\"/>\n<text text-anchor=\"middle\" x=\"1093\" y=\"-140.3\" font-family=\"Times,serif\" font-size=\"14.00\">grad &#45;0.4142</text>\n</g>\n<!-- 10761195824&#45;&gt;10761196064+ -->\n<g id=\"edge21\" class=\"edge\">\n<title>10761195824&#45;&gt;10761196064+</title>\n<path fill=\"none\" stroke=\"black\" d=\"M1135.7,-187.85C1146.08,-193.04 1157.02,-198.51 1166.79,-203.4\"/>\n<polygon fill=\"black\" stroke=\"black\" points=\"1164.99,-206.41 1175.5,-207.75 1168.12,-200.15 1164.99,-206.41\"/>\n</g>\n<!-- 10756218688 -->\n<g id=\"node19\" class=\"node\">\n<title>10756218688</title>\n<polygon fill=\"none\" stroke=\"black\" points=\"1052,-220.5 1052,-289.5 1134,-289.5 1134,-220.5 1052,-220.5\"/>\n<text text-anchor=\"middle\" x=\"1093\" y=\"-274.3\" font-family=\"Times,serif\" font-size=\"14.00\">e</text>\n<polyline fill=\"none\" stroke=\"black\" points=\"1052,-266.5 1134,-266.5\"/>\n<text text-anchor=\"middle\" x=\"1093\" y=\"-251.3\" font-family=\"Times,serif\" font-size=\"14.00\">data 5.8284</text>\n<polyline fill=\"none\" stroke=\"black\" points=\"1052,-243.5 1134,-243.5\"/>\n<text text-anchor=\"middle\" x=\"1093\" y=\"-228.3\" font-family=\"Times,serif\" font-size=\"14.00\">grad 0.0251</text>\n</g>\n<!-- 10756218688&#45;&gt;10761196064+ -->\n<g id=\"edge14\" class=\"edge\">\n<title>10756218688&#45;&gt;10761196064+</title>\n<path fill=\"none\" stroke=\"black\" d=\"M1133.91,-241.18C1143.79,-237.76 1154.29,-234.13 1163.87,-230.82\"/>\n<polygon fill=\"black\" stroke=\"black\" points=\"1164.86,-234.18 1173.17,-227.6 1162.57,-227.56 1164.86,-234.18\"/>\n</g>\n<!-- 10756218688&#45;&gt;10761199232+ -->\n<g id=\"edge19\" class=\"edge\">\n<title>10756218688&#45;&gt;10761199232+</title>\n<path fill=\"none\" stroke=\"black\" d=\"M1133.91,-268.43C1143.71,-271.73 1154.12,-275.23 1163.63,-278.43\"/>\n<polygon fill=\"black\" stroke=\"black\" points=\"1162.27,-281.67 1172.86,-281.54 1164.5,-275.03 1162.27,-281.67\"/>\n</g>\n<!-- 10756218688exp&#45;&gt;10756218688 -->\n<g id=\"edge7\" class=\"edge\">\n<title>10756218688exp&#45;&gt;10756218688</title>\n<path fill=\"none\" stroke=\"black\" d=\"M1014.24,-255C1022.46,-255 1031.82,-255 1041.13,-255\"/>\n<polygon fill=\"black\" stroke=\"black\" points=\"1040.87,-258.5 1050.87,-255 1040.87,-251.5 1040.87,-258.5\"/>\n</g>\n<!-- 10761198944 -->\n<g id=\"node21\" class=\"node\">\n<title>10761198944</title>\n<polygon fill=\"none\" stroke=\"black\" points=\"1502,-188.5 1502,-257.5 1584,-257.5 1584,-188.5 1502,-188.5\"/>\n<text text-anchor=\"middle\" x=\"1543\" y=\"-242.3\" font-family=\"Times,serif\" font-size=\"14.00\"> </text>\n<polyline fill=\"none\" stroke=\"black\" points=\"1502,-234.5 1584,-234.5\"/>\n<text text-anchor=\"middle\" x=\"1543\" y=\"-219.3\" font-family=\"Times,serif\" font-size=\"14.00\">data 0.1464</text>\n<polyline fill=\"none\" stroke=\"black\" points=\"1502,-211.5 1584,-211.5\"/>\n<text text-anchor=\"middle\" x=\"1543\" y=\"-196.3\" font-family=\"Times,serif\" font-size=\"14.00\">grad 9.6569</text>\n</g>\n<!-- 10761198944&#45;&gt;10763035072* -->\n<g id=\"edge25\" class=\"edge\">\n<title>10761198944&#45;&gt;10763035072*</title>\n<path fill=\"none\" stroke=\"black\" d=\"M1583.73,-235.07C1592.67,-237.79 1602.11,-240.66 1610.85,-243.32\"/>\n<polygon fill=\"black\" stroke=\"black\" points=\"1609.81,-246.66 1620.4,-246.22 1611.85,-239.96 1609.81,-246.66\"/>\n</g>\n<!-- 10761198944**&#45;1&#45;&gt;10761198944 -->\n<g id=\"edge8\" class=\"edge\">\n<title>10761198944**&#45;1&#45;&gt;10761198944</title>\n<path fill=\"none\" stroke=\"black\" d=\"M1452.32,-219.91C1463.7,-220.3 1477.42,-220.77 1490.66,-221.23\"/>\n<polygon fill=\"black\" stroke=\"black\" points=\"1490.49,-224.73 1500.6,-221.57 1490.73,-217.73 1490.49,-224.73\"/>\n</g>\n<!-- 10766969200 -->\n<g id=\"node23\" class=\"node\">\n<title>10766969200</title>\n<polygon fill=\"none\" stroke=\"black\" points=\"2,-264.5 2,-333.5 84,-333.5 84,-264.5 2,-264.5\"/>\n<text text-anchor=\"middle\" x=\"43\" y=\"-318.3\" font-family=\"Times,serif\" font-size=\"14.00\">x2</text>\n<polyline fill=\"none\" stroke=\"black\" points=\"2,-310.5 84,-310.5\"/>\n<text text-anchor=\"middle\" x=\"43\" y=\"-295.3\" font-family=\"Times,serif\" font-size=\"14.00\">data 0.0000</text>\n<polyline fill=\"none\" stroke=\"black\" points=\"2,-287.5 84,-287.5\"/>\n<text text-anchor=\"middle\" x=\"43\" y=\"-272.3\" font-family=\"Times,serif\" font-size=\"14.00\">grad 2.7929</text>\n</g>\n<!-- 10766969200&#45;&gt;10763049184* -->\n<g id=\"edge11\" class=\"edge\">\n<title>10766969200&#45;&gt;10763049184*</title>\n<path fill=\"none\" stroke=\"black\" d=\"M83.91,-265.23C96.93,-254.21 111.02,-242.29 122.66,-232.44\"/>\n<polygon fill=\"black\" stroke=\"black\" points=\"124.88,-235.15 130.25,-226.02 120.36,-229.81 124.88,-235.15\"/>\n</g>\n<!-- 10763049376 -->\n<g id=\"node24\" class=\"node\">\n<title>10763049376</title>\n<polygon fill=\"none\" stroke=\"black\" points=\"212,-88.5 212,-157.5 297,-157.5 297,-88.5 212,-88.5\"/>\n<text text-anchor=\"middle\" x=\"254.5\" y=\"-142.3\" font-family=\"Times,serif\" font-size=\"14.00\">x1w1</text>\n<polyline fill=\"none\" stroke=\"black\" points=\"212,-134.5 297,-134.5\"/>\n<text text-anchor=\"middle\" x=\"254.5\" y=\"-119.3\" font-family=\"Times,serif\" font-size=\"14.00\">data &#45;6.0000</text>\n<polyline fill=\"none\" stroke=\"black\" points=\"212,-111.5 297,-111.5\"/>\n<text text-anchor=\"middle\" x=\"254.5\" y=\"-96.3\" font-family=\"Times,serif\" font-size=\"14.00\">grad 2.2929</text>\n</g>\n<!-- 10763049376&#45;&gt;10763034784+ -->\n<g id=\"edge15\" class=\"edge\">\n<title>10763049376&#45;&gt;10763034784+</title>\n<path fill=\"none\" stroke=\"black\" d=\"M296.7,-140.52C306.51,-144.68 316.84,-149.08 326.21,-153.06\"/>\n<polygon fill=\"black\" stroke=\"black\" points=\"324.72,-156.23 335.29,-156.92 327.45,-149.79 324.72,-156.23\"/>\n</g>\n<!-- 10763049376*&#45;&gt;10763049376 -->\n<g id=\"edge9\" class=\"edge\">\n<title>10763049376*&#45;&gt;10763049376</title>\n<path fill=\"none\" stroke=\"black\" d=\"M176.39,-123C183.88,-123 192.32,-123 200.79,-123\"/>\n<polygon fill=\"black\" stroke=\"black\" points=\"200.76,-126.5 210.76,-123 200.76,-119.5 200.76,-126.5\"/>\n</g>\n<!-- 10763035072 -->\n<g id=\"node26\" class=\"node\">\n<title>10763035072</title>\n<polygon fill=\"none\" stroke=\"black\" points=\"1710,-219.5 1710,-288.5 1792,-288.5 1792,-219.5 1710,-219.5\"/>\n<text text-anchor=\"middle\" x=\"1751\" y=\"-273.3\" font-family=\"Times,serif\" font-size=\"14.00\">o</text>\n<polyline fill=\"none\" stroke=\"black\" points=\"1710,-265.5 1792,-265.5\"/>\n<text text-anchor=\"middle\" x=\"1751\" y=\"-250.3\" font-family=\"Times,serif\" font-size=\"14.00\">data 0.7071</text>\n<polyline fill=\"none\" stroke=\"black\" points=\"1710,-242.5 1792,-242.5\"/>\n<text text-anchor=\"middle\" x=\"1751\" y=\"-227.3\" font-family=\"Times,serif\" font-size=\"14.00\">grad 1.0000</text>\n</g>\n<!-- 10763035072*&#45;&gt;10763035072 -->\n<g id=\"edge10\" class=\"edge\">\n<title>10763035072*&#45;&gt;10763035072</title>\n<path fill=\"none\" stroke=\"black\" d=\"M1674.27,-254C1681.9,-254 1690.51,-254 1699.12,-254\"/>\n<polygon fill=\"black\" stroke=\"black\" points=\"1698.83,-257.5 1708.83,-254 1698.83,-250.5 1698.83,-257.5\"/>\n</g>\n<!-- 10766969296 -->\n<g id=\"node28\" class=\"node\">\n<title>10766969296</title>\n<polygon fill=\"none\" stroke=\"black\" points=\"2,-176.5 2,-245.5 84,-245.5 84,-176.5 2,-176.5\"/>\n<text text-anchor=\"middle\" x=\"43\" y=\"-230.3\" font-family=\"Times,serif\" font-size=\"14.00\">w2</text>\n<polyline fill=\"none\" stroke=\"black\" points=\"2,-222.5 84,-222.5\"/>\n<text text-anchor=\"middle\" x=\"43\" y=\"-207.3\" font-family=\"Times,serif\" font-size=\"14.00\">data 1.0000</text>\n<polyline fill=\"none\" stroke=\"black\" points=\"2,-199.5 84,-199.5\"/>\n<text text-anchor=\"middle\" x=\"43\" y=\"-184.3\" font-family=\"Times,serif\" font-size=\"14.00\">grad 0.0000</text>\n</g>\n<!-- 10766969296&#45;&gt;10763049184* -->\n<g id=\"edge27\" class=\"edge\">\n<title>10766969296&#45;&gt;10763049184*</title>\n<path fill=\"none\" stroke=\"black\" d=\"M83.91,-211C92.58,-211 101.71,-211 110.29,-211\"/>\n<polygon fill=\"black\" stroke=\"black\" points=\"110.02,-214.5 120.02,-211 110.02,-207.5 110.02,-214.5\"/>\n</g>\n</g>\n</svg>\n",
      "text/plain": [
       "<graphviz.graphs.Digraph at 0x281871be0>"
      ]
     },
     "execution_count": 456,
     "metadata": {},
     "output_type": "execute_result"
    }
   ],
   "source": [
    "# o = tanh(n)\n",
    "# do / dn = 1 - o**2 \n",
    "# n.grad = 1 - o.data**2\n",
    "# b.grad = n.grad\n",
    "# x1w1x2w2.grad = n.grad\n",
    "# x1w1.grad = x1w1x2w2.grad\n",
    "# x2w2.grad = x1w1x2w2.grad\n",
    "\n",
    "# #times\n",
    "# x2.grad = x2w2.grad * w2.data\n",
    "# w2.grad = x2w2.grad * x2.data\n",
    "# x1.grad = x1w1.grad * w1.data\n",
    "# w1.grad = x1w1.grad * x1.data\n",
    "draw_dot(o)"
   ]
  },
  {
   "cell_type": "code",
   "execution_count": 457,
   "metadata": {},
   "outputs": [
    {
     "data": {
      "image/svg+xml": "<?xml version=\"1.0\" encoding=\"UTF-8\" standalone=\"no\"?>\n<!DOCTYPE svg PUBLIC \"-//W3C//DTD SVG 1.1//EN\"\n \"http://www.w3.org/Graphics/SVG/1.1/DTD/svg11.dtd\">\n<!-- Generated by graphviz version 7.1.0 (20230121.1956)\n -->\n<!-- Pages: 1 -->\n<svg width=\"298pt\" height=\"78pt\"\n viewBox=\"0.00 0.00 298.00 78.00\" xmlns=\"http://www.w3.org/2000/svg\" xmlns:xlink=\"http://www.w3.org/1999/xlink\">\n<g id=\"graph0\" class=\"graph\" transform=\"scale(1 1) rotate(0) translate(4 74)\">\n<polygon fill=\"white\" stroke=\"none\" points=\"-4,4 -4,-74 294,-74 294,4 -4,4\"/>\n<!-- 10763047600 -->\n<g id=\"node1\" class=\"node\">\n<title>10763047600</title>\n<polygon fill=\"none\" stroke=\"black\" points=\"0,-0.5 0,-69.5 82,-69.5 82,-0.5 0,-0.5\"/>\n<text text-anchor=\"middle\" x=\"41\" y=\"-54.3\" font-family=\"Times,serif\" font-size=\"14.00\">a</text>\n<polyline fill=\"none\" stroke=\"black\" points=\"0,-46.5 82,-46.5\"/>\n<text text-anchor=\"middle\" x=\"41\" y=\"-31.3\" font-family=\"Times,serif\" font-size=\"14.00\">data 3.0000</text>\n<polyline fill=\"none\" stroke=\"black\" points=\"0,-23.5 82,-23.5\"/>\n<text text-anchor=\"middle\" x=\"41\" y=\"-8.3\" font-family=\"Times,serif\" font-size=\"14.00\">grad 2.0000</text>\n</g>\n<!-- 10763048656+ -->\n<g id=\"node3\" class=\"node\">\n<title>10763048656+</title>\n<ellipse fill=\"none\" stroke=\"black\" cx=\"145\" cy=\"-35\" rx=\"27\" ry=\"18\"/>\n<text text-anchor=\"middle\" x=\"145\" y=\"-31.3\" font-family=\"Times,serif\" font-size=\"14.00\">+</text>\n</g>\n<!-- 10763047600&#45;&gt;10763048656+ -->\n<g id=\"edge2\" class=\"edge\">\n<title>10763047600&#45;&gt;10763048656+</title>\n<path fill=\"none\" stroke=\"black\" d=\"M81.73,-35C89.85,-35 98.36,-35 106.41,-35\"/>\n<polygon fill=\"black\" stroke=\"black\" points=\"106.23,-38.5 116.23,-35 106.23,-31.5 106.23,-38.5\"/>\n</g>\n<!-- 10763048656 -->\n<g id=\"node2\" class=\"node\">\n<title>10763048656</title>\n<polygon fill=\"none\" stroke=\"black\" points=\"208,-0.5 208,-69.5 290,-69.5 290,-0.5 208,-0.5\"/>\n<text text-anchor=\"middle\" x=\"249\" y=\"-54.3\" font-family=\"Times,serif\" font-size=\"14.00\">b</text>\n<polyline fill=\"none\" stroke=\"black\" points=\"208,-46.5 290,-46.5\"/>\n<text text-anchor=\"middle\" x=\"249\" y=\"-31.3\" font-family=\"Times,serif\" font-size=\"14.00\">data 6.0000</text>\n<polyline fill=\"none\" stroke=\"black\" points=\"208,-23.5 290,-23.5\"/>\n<text text-anchor=\"middle\" x=\"249\" y=\"-8.3\" font-family=\"Times,serif\" font-size=\"14.00\">grad 1.0000</text>\n</g>\n<!-- 10763048656+&#45;&gt;10763048656 -->\n<g id=\"edge1\" class=\"edge\">\n<title>10763048656+&#45;&gt;10763048656</title>\n<path fill=\"none\" stroke=\"black\" d=\"M172.27,-35C179.9,-35 188.51,-35 197.12,-35\"/>\n<polygon fill=\"black\" stroke=\"black\" points=\"196.83,-38.5 206.83,-35 196.83,-31.5 196.83,-38.5\"/>\n</g>\n</g>\n</svg>\n",
      "text/plain": [
       "<graphviz.graphs.Digraph at 0x281871c10>"
      ]
     },
     "execution_count": 457,
     "metadata": {},
     "output_type": "execute_result"
    }
   ],
   "source": [
    "a = Value(3.0, label='a')\n",
    "b = a+a; b.label = 'b'\n",
    "b.backward()\n",
    "draw_dot(b)"
   ]
  },
  {
   "cell_type": "code",
   "execution_count": 458,
   "metadata": {},
   "outputs": [
    {
     "name": "stdout",
     "output_type": "stream",
     "text": [
      "Defaulting to user installation because normal site-packages is not writeable\n",
      "Requirement already satisfied: torch in /Users/user/Library/Python/3.9/lib/python/site-packages (1.13.1)\n",
      "Requirement already satisfied: typing-extensions in /Users/user/Library/Python/3.9/lib/python/site-packages (from torch) (4.4.0)\n",
      "\u001b[33mWARNING: You are using pip version 21.2.4; however, version 22.3.1 is available.\n",
      "You should consider upgrading via the '/Applications/Xcode.app/Contents/Developer/usr/bin/python3 -m pip install --upgrade pip' command.\u001b[0m\n",
      "Note: you may need to restart the kernel to use updated packages.\n",
      "0.7071066904050358\n",
      "-1.5000003851533106 x1\n",
      "0.5000001283844369 x2\n",
      "1.0000002567688737 w1\n",
      "0.0 w2\n"
     ]
    }
   ],
   "source": [
    "%pip install torch\n",
    "import torch\n",
    "\n",
    "x1 = torch.Tensor([2.0]).double(); x1.requires_grad = True\n",
    "x2 = torch.Tensor([0.0]).double(); x2.requires_grad = True\n",
    "w1 = torch.Tensor([-3.0]).double(); w1.requires_grad = True\n",
    "w2 = torch.Tensor([1.0]).double(); w2.requires_grad = True\n",
    "b = torch.Tensor([6.8813735870195432]).double(); b.requires_grad = True\n",
    "n = x1*w1 + x2*w2 + b\n",
    "o = torch.tanh(n)\n",
    "\n",
    "print(o.data.item())\n",
    "o.backward()\n",
    "\n",
    "print(x1.grad.item(), \"x1\")\n",
    "print(x2.grad.item(), \"x2\")\n",
    "print(w1.grad.item(), \"w1\")\n",
    "print(w2.grad.item(), \"w2\")"
   ]
  },
  {
   "cell_type": "code",
   "execution_count": 553,
   "metadata": {},
   "outputs": [
    {
     "data": {
      "text/plain": [
       "Value(data=0.9446936185656966)"
      ]
     },
     "execution_count": 553,
     "metadata": {},
     "output_type": "execute_result"
    }
   ],
   "source": [
    "import random\n",
    "class Neuron:\n",
    "    def __init__(self, nin):\n",
    "        self.w = [Value(random.uniform(-1, 1), label=f'w{i}') for i in range(nin)]\n",
    "        self.b = Value(random.uniform(-1, 1), label='b')\n",
    "\n",
    "    def __call__(self, x):\n",
    "        act = sum((wi*xi for wi, xi in zip(self.w, x)), self.b)\n",
    "        out = act.tanh()\n",
    "        return out\n",
    "\n",
    "    def parameters(self):\n",
    "        return self.w + [self.b]\n",
    "\n",
    "class Layer:\n",
    "    def __init__(self, nin, nout):\n",
    "        self.neurons = [Neuron(nin) for _ in range(nout)]\n",
    "\n",
    "    def __call__(self, x):\n",
    "        outs = [n(x) for n in self.neurons]\n",
    "        return outs[0] if len(outs) == 1 else outs\n",
    "\n",
    "    def parameters(self):\n",
    "        return [p for neuron in self.neurons for p in neuron.parameters()]\n",
    "\n",
    "class MLP:\n",
    "    def __init__(self, nin, nouts):\n",
    "        sz = [nin] + nouts\n",
    "        self.layers = [Layer(sz[i], sz[i+1]) for i in range(len(nouts))]\n",
    "\n",
    "    def __call__(self, x):\n",
    "        for layer in self.layers:\n",
    "            x = layer(x)\n",
    "        return x\n",
    "\n",
    "    def parameters(self):\n",
    "        return [p for layer in self.layers for p in layer.parameters()]\n",
    "\n",
    "\n",
    "x = [2.0, 3.0, -1.0]\n",
    "n = MLP(3, [4, 4, 1])\n",
    "n(x)"
   ]
  },
  {
   "cell_type": "code",
   "execution_count": 555,
   "metadata": {},
   "outputs": [
    {
     "data": {
      "text/plain": [
       "[Value(data=0.9446936185656966),\n",
       " Value(data=0.8242298718847293),\n",
       " Value(data=0.7312592075787152),\n",
       " Value(data=0.930150526304767)]"
      ]
     },
     "execution_count": 555,
     "metadata": {},
     "output_type": "execute_result"
    }
   ],
   "source": [
    "xs = [\n",
    "    [2.0, 3.0, -1.0],\n",
    "    [3.0, -1.0, 0.5],\n",
    "    [0.5, 1.0, 1.0],\n",
    "    [1.0, 1.0, -1.0],\n",
    "]\n",
    "ys = [1.0, -1.0, 1.0, -1.0]\n",
    "ypred = [n(x) for x in xs]\n",
    "ypred"
   ]
  },
  {
   "cell_type": "code",
   "execution_count": null,
   "metadata": {},
   "outputs": [],
   "source": []
  },
  {
   "cell_type": "code",
   "execution_count": 579,
   "metadata": {},
   "outputs": [
    {
     "name": "stdout",
     "output_type": "stream",
     "text": [
      "0 0.0012934187524332162\n",
      "1 0.0012904114645992876\n",
      "2 0.0012874180609454442\n",
      "3 0.0012844384452866489\n",
      "4 0.0012814725223268234\n",
      "5 0.0012785201976486427\n",
      "6 0.0012755813777032968\n",
      "7 0.0012726559698006106\n",
      "8 0.0012697438820991145\n",
      "9 0.0012668450235963804\n",
      "10 0.0012639593041193899\n",
      "11 0.0012610866343151362\n",
      "12 0.00125822692564125\n",
      "13 0.0012553800903568617\n",
      "14 0.0012525460415134708\n",
      "15 0.0012497246929460502\n",
      "16 0.0012469159592641817\n",
      "17 0.0012441197558433837\n",
      "18 0.0012413359988164875\n",
      "19 0.001238564605065209\n"
     ]
    }
   ],
   "source": [
    "for k in range(20):\n",
    "\n",
    "    ypred = [n(x) for x in xs]\n",
    "    loss = sum((yout-ygt)**2 for yout, ygt in zip(ypred, ys))\n",
    "\n",
    "    for p in n.parameters():\n",
    "        p.grad = 0.0\n",
    "\n",
    "    loss.backward()\n",
    "\n",
    "    for p in n.parameters():\n",
    "        p.data -= 0.05 * p.grad\n",
    "\n",
    "    print(k, loss.data)"
   ]
  },
  {
   "cell_type": "code",
   "execution_count": 580,
   "metadata": {},
   "outputs": [
    {
     "data": {
      "text/plain": [
       "[Value(data=0.980599260876501),\n",
       " Value(data=-0.9869966840356202),\n",
       " Value(data=0.988605731610521),\n",
       " Value(data=-0.9762668934118146)]"
      ]
     },
     "execution_count": 580,
     "metadata": {},
     "output_type": "execute_result"
    }
   ],
   "source": [
    "ypred"
   ]
  }
 ],
 "metadata": {
  "kernelspec": {
   "display_name": "Python 3",
   "language": "python",
   "name": "python3"
  },
  "language_info": {
   "codemirror_mode": {
    "name": "ipython",
    "version": 3
   },
   "file_extension": ".py",
   "mimetype": "text/x-python",
   "name": "python",
   "nbconvert_exporter": "python",
   "pygments_lexer": "ipython3",
   "version": "3.9.6"
  },
  "orig_nbformat": 4,
  "vscode": {
   "interpreter": {
    "hash": "31f2aee4e71d21fbe5cf8b01ff0e069b9275f58929596ceb00d14d90e3e16cd6"
   }
  }
 },
 "nbformat": 4,
 "nbformat_minor": 2
}
